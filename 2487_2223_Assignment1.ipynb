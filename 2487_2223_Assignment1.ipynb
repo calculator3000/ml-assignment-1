{
 "cells": [
  {
   "attachments": {},
   "cell_type": "markdown",
   "metadata": {},
   "source": [
    "# 2487-2223 Machine Learning Assignment 1\n",
    "\n"
   ]
  },
  {
   "attachments": {},
   "cell_type": "markdown",
   "metadata": {},
   "source": [
    "## Question 1 (25 points) - Zestimate this House\n",
    "\n",
    "Purchasing a house is a very big decision for most of us. Companies such as Zillows collected tons of data regarding the listing and sold price of American houses and build the predictive model, named *Zestimate*. You are expected to build a model similar as Zestimate to predict house price in Boston. \n",
    "\n",
    "![zestimate](https://i0.wp.com/www.housesoldeasy.com/wp-content/uploads/Screen-Shot-2016-08-15-at-7.22.09-PM.png?resize=300%2C258&ssl=1)"
   ]
  },
  {
   "cell_type": "code",
   "execution_count": 1,
   "metadata": {},
   "outputs": [],
   "source": [
    "import pandas as pd\n",
    "import numpy as np\n",
    "import seaborn as sns\n",
    "import matplotlib.pyplot as plt\n",
    "from sklearn.model_selection import train_test_split\n",
    "from sklearn.model_selection import cross_val_score\n",
    "from sklearn.model_selection import cross_validate\n",
    "from sklearn.model_selection import GridSearchCV\n",
    "from sklearn.linear_model import LinearRegression\n",
    "from sklearn.linear_model import LogisticRegression\n",
    "from sklearn.linear_model import Ridge\n",
    "from sklearn.linear_model import Lasso\n",
    "from sklearn.linear_model import LogisticRegressionCV\n",
    "from sklearn.pipeline import Pipeline\n",
    "from sklearn.base import BaseEstimator\n",
    "from sklearn.base import TransformerMixin\n",
    "from sklearn.preprocessing import StandardScaler\n",
    "from sklearn.preprocessing import OneHotEncoder\n",
    "from sklearn.preprocessing import PolynomialFeatures\n",
    "from sklearn.preprocessing import KBinsDiscretizer\n",
    "from sklearn.metrics import mean_squared_error\n",
    "from sklearn.metrics import make_scorer\n",
    "from sklearn.metrics import precision_score\n",
    "from sklearn.metrics import confusion_matrix\n",
    "from sklearn.compose import ColumnTransformer\n",
    "from sklearn.metrics import classification_report\n",
    "from sklearn.ensemble import RandomForestClassifier\n",
    "import warnings \n",
    "warnings.filterwarnings('ignore')\n"
   ]
  },
  {
   "cell_type": "code",
   "execution_count": 2,
   "metadata": {},
   "outputs": [
    {
     "name": "stdout",
     "output_type": "stream",
     "text": [
      "Data loaded correctly.\n",
      "Features: X. Target variable (price): y.\n",
      "X shape:  (506, 13) y shape:  (506,)\n"
     ]
    }
   ],
   "source": [
    "### DON'T MODIFY - LOAD DATA ### \n",
    "\n",
    "data_url = \"http://lib.stat.cmu.edu/datasets/boston\" \n",
    "raw_df = pd.read_csv(data_url, sep=\"\\s+\", skiprows=22, header=None)\n",
    "X = np.hstack([raw_df.values[::2, :], raw_df.values[1::2, :2]]) # FEATURES \n",
    "y = raw_df.values[1::2, 2] # TARGET VARIABLE\n",
    "assert X.shape[0] == y.shape[0], 'Mismatch in number of examples.'\n",
    "print('Data loaded correctly.')\n",
    "print('Features: X. Target variable (price): y.')\n",
    "print('X shape: ',X.shape, 'y shape: ', y.shape)\n",
    "### END ###"
   ]
  },
  {
   "attachments": {},
   "cell_type": "markdown",
   "metadata": {},
   "source": [
    "The columns:\n",
    "| Index | Variable | Description                                                 |\n",
    "|-------|----------|-------------------------------------------------------------|\n",
    "| 0     | CRIM     | per capita crime rate by town                              |\n",
    "| 1     | ZN       | proportion of residential land zoned for lots over 25,000 sq.ft. |\n",
    "| 2     | INDUS    | proportion of non-retail business acres per town             |\n",
    "| 3     | CHAS     | Charles River dummy variable (= 1 if tract bounds river; 0 otherwise) |\n",
    "| 4     | NOX      | nitric oxides concentration (parts per 10 million)           |\n",
    "| 5     | RM       | average number of rooms per dwelling                         |\n",
    "| 6     | AGE      | proportion of owner-occupied units built prior to 1940       |\n",
    "| 7     | DIS      | weighted distances to five Boston employment centres        |\n",
    "| 8     | RAD      | index of accessibility to radial highways                    |\n",
    "| 9     | TAX      | full-value property-tax rate per $10,000                     |\n",
    "| 10    | PTRATIO  | pupil-teacher ratio by town                                  |\n",
    "| 11    | B        | 1000(Bk - 0.63)^2 where Bk is the proportion of blacks by town |\n",
    "| 12    | LSTAT    | % lower status of the population                             |\n",
    "| 13    | MEDV     | Median value of owner-occupied homes in $1000's              |\n",
    "\n",
    "Label = y = MEDV (price)\n"
   ]
  },
  {
   "attachments": {},
   "cell_type": "markdown",
   "metadata": {},
   "source": [
    "#### Question 1.1 (5 points) \n",
    "Create train and test set, each contains 80% and 20% of the dataset, respectively, using *train_test_split* function in scikit-learn. Train a linear model on the train set and evaluate on the test set, report the training error and test error, respectively (as mean squared error)."
   ]
  },
  {
   "cell_type": "code",
   "execution_count": 3,
   "metadata": {},
   "outputs": [
    {
     "name": "stdout",
     "output_type": "stream",
     "text": [
      "Training error (MSE): 21.555648194527308\n",
      "Test error (MSE): 24.318238309170436\n"
     ]
    }
   ],
   "source": [
    "seed = 13\n",
    "\n",
    "# create linear regression object\n",
    "reg = LinearRegression()\n",
    "\n",
    "# split data into training and testing data sets\n",
    "X_train, X_test, y_train, y_test = train_test_split(X, y, test_size = 0.2, random_state = seed)\n",
    "\n",
    "# train the model with training set to find the best parameters for the best-fitting line\n",
    "reg.fit(X_train, y_train)\n",
    "\n",
    "# make predictions with train set and compute MSE on train data\n",
    "y_pred_test = reg.predict(X_train)\n",
    "error_train = mean_squared_error(y_train, y_pred_test)\n",
    "    \n",
    "# make predictions with test data and compute MSE on test data (unseen)\n",
    "y_pred = reg.predict(X_test)\n",
    "error_test = mean_squared_error(y_test, y_pred)\n",
    "\n",
    "print('Training error (MSE):', error_train) # how well the model fits the training data\n",
    "print('Test error (MSE):', error_test) # how well the model can predict new, unseen data"
   ]
  },
  {
   "attachments": {},
   "cell_type": "markdown",
   "metadata": {},
   "source": [
    "#### Question 1.2 (5 points)\n",
    "\n",
    "Perform a 10-fold cross-validation on the whole data set. Show the averaged mean sqaured error on both train and test set at each fold. Explain your findings."
   ]
  },
  {
   "cell_type": "code",
   "execution_count": 4,
   "metadata": {},
   "outputs": [
    {
     "data": {
      "text/html": [
       "<div>\n",
       "<style scoped>\n",
       "    .dataframe tbody tr th:only-of-type {\n",
       "        vertical-align: middle;\n",
       "    }\n",
       "\n",
       "    .dataframe tbody tr th {\n",
       "        vertical-align: top;\n",
       "    }\n",
       "\n",
       "    .dataframe thead th {\n",
       "        text-align: right;\n",
       "    }\n",
       "</style>\n",
       "<table border=\"1\" class=\"dataframe\">\n",
       "  <thead>\n",
       "    <tr style=\"text-align: right;\">\n",
       "      <th></th>\n",
       "      <th>train_MSE</th>\n",
       "      <th>test_MSE</th>\n",
       "    </tr>\n",
       "  </thead>\n",
       "  <tbody>\n",
       "    <tr>\n",
       "      <th>0</th>\n",
       "      <td>23.363228</td>\n",
       "      <td>9.286947</td>\n",
       "    </tr>\n",
       "    <tr>\n",
       "      <th>1</th>\n",
       "      <td>22.882034</td>\n",
       "      <td>14.151283</td>\n",
       "    </tr>\n",
       "    <tr>\n",
       "      <th>2</th>\n",
       "      <td>23.216075</td>\n",
       "      <td>14.073606</td>\n",
       "    </tr>\n",
       "    <tr>\n",
       "      <th>3</th>\n",
       "      <td>20.771703</td>\n",
       "      <td>35.206924</td>\n",
       "    </tr>\n",
       "    <tr>\n",
       "      <th>4</th>\n",
       "      <td>21.335426</td>\n",
       "      <td>31.885117</td>\n",
       "    </tr>\n",
       "    <tr>\n",
       "      <th>5</th>\n",
       "      <td>22.363700</td>\n",
       "      <td>19.835878</td>\n",
       "    </tr>\n",
       "    <tr>\n",
       "      <th>6</th>\n",
       "      <td>23.327221</td>\n",
       "      <td>9.947269</td>\n",
       "    </tr>\n",
       "    <tr>\n",
       "      <th>7</th>\n",
       "      <td>11.959197</td>\n",
       "      <td>168.375380</td>\n",
       "    </tr>\n",
       "    <tr>\n",
       "      <th>8</th>\n",
       "      <td>21.586295</td>\n",
       "      <td>33.329745</td>\n",
       "    </tr>\n",
       "    <tr>\n",
       "      <th>9</th>\n",
       "      <td>23.189043</td>\n",
       "      <td>10.960411</td>\n",
       "    </tr>\n",
       "  </tbody>\n",
       "</table>\n",
       "</div>"
      ],
      "text/plain": [
       "   train_MSE    test_MSE\n",
       "0  23.363228    9.286947\n",
       "1  22.882034   14.151283\n",
       "2  23.216075   14.073606\n",
       "3  20.771703   35.206924\n",
       "4  21.335426   31.885117\n",
       "5  22.363700   19.835878\n",
       "6  23.327221    9.947269\n",
       "7  11.959197  168.375380\n",
       "8  21.586295   33.329745\n",
       "9  23.189043   10.960411"
      ]
     },
     "execution_count": 4,
     "metadata": {},
     "output_type": "execute_result"
    }
   ],
   "source": [
    "# perform 10-fold cross-validation on dataset with MSE\n",
    "scores = cross_validate(reg, X, y, scoring='neg_mean_squared_error', cv=10, return_train_score = True)\n",
    "\n",
    "# get train and test MSE from scores dict, multiply by -1 to get positive MSE\n",
    "train_MSE = scores[\"train_score\"] * -1  # The score array for train scores on each cv split\n",
    "test_MSE = scores[\"test_score\"] * -1    # The score array for test scores on each cv split\n",
    "\n",
    "# create dataframe containing the average MSE for train and test set for each fold\n",
    "mse_df = pd.DataFrame({'train_MSE': train_MSE, 'test_MSE': test_MSE})\n",
    "mse_df"
   ]
  },
  {
   "cell_type": "code",
   "execution_count": 5,
   "metadata": {},
   "outputs": [
    {
     "name": "stdout",
     "output_type": "stream",
     "text": [
      "Average training error (MSE) over 10-fold cross-validation: 21.39939241710581\n",
      "Average testing error (MSE) over 10-fold cross-validation: 34.70525594452485\n"
     ]
    }
   ],
   "source": [
    "print(\"Average training error (MSE) over 10-fold cross-validation:\", train_MSE.mean())\n",
    "print(\"Average testing error (MSE) over 10-fold cross-validation:\", test_MSE.mean())"
   ]
  },
  {
   "attachments": {},
   "cell_type": "markdown",
   "metadata": {},
   "source": [
    "<span style=\"color:orange\">**Findings:**</span>\n",
    "- The average MSE is calculated over 10 folds. The smaller the MSE, the better.\n",
    "- The model's performance is not consistent across folds. In 9 out of 10 folds get a training MSE around 21. In one fold the training MSE is significantly smaller at 11.95. \n",
    "- We can also see that the MSE on the training set varies from 9.28 to 168.37\n",
    "- Especially in cases where the test MSE is greater than the train MSE, the we can assume that the model is overfitting to the training data in some cases and then performing badly on the previously unseen test set.\n",
    "- In the 8th fold, we achieve the lowest training MSE of 11.95, but the by far largest test MSE of 168.37. This could also be explained by the model being overfit to the data it has been trained on. This fold has high variance.\n",
    "\n",
    "Overall, while the model does appear to be overfitting to the training data in many of the iterations, and is not generalizing well to new data, there are some cases where the training and test MSE values are more similar, but still relatively high. The high training error suggests, that a straight line doesn't fit well to the data (underfit)."
   ]
  },
  {
   "attachments": {},
   "cell_type": "markdown",
   "metadata": {},
   "source": [
    "#### Question 1.3 (5 points) \n",
    " \n",
    "Add 2-degree squared polynomial features (with no interactions) and perform 10-fold cross-validation on the whole data set. Show the mean sqaured error on both train and test set at each fold. Explain your findings.\n",
    "\n",
    "Hint: you may use sklearn.preprocessing.PolynomialFeatures and check how it produces the polynomial features with/without interaction terms."
   ]
  },
  {
   "attachments": {},
   "cell_type": "markdown",
   "metadata": {},
   "source": [
    "#####  Trying out behavior of interaction terms"
   ]
  },
  {
   "cell_type": "code",
   "execution_count": 6,
   "metadata": {},
   "outputs": [
    {
     "data": {
      "text/plain": [
       "(506, 13)"
      ]
     },
     "execution_count": 6,
     "metadata": {},
     "output_type": "execute_result"
    }
   ],
   "source": [
    "X.shape"
   ]
  },
  {
   "cell_type": "code",
   "execution_count": 7,
   "metadata": {},
   "outputs": [
    {
     "name": "stdout",
     "output_type": "stream",
     "text": [
      "(506, 92)\n",
      "Only interaction features (the product of different input features) and the terms with power 1 are produced\n"
     ]
    }
   ],
   "source": [
    "poly_interaction = PolynomialFeatures(degree = 2, interaction_only = True)\n",
    "X_interaction = poly_interaction.fit_transform(X)\n",
    "print(X_interaction.shape)\n",
    "print(\"Only interaction features (the product of different input features) and the terms with power 1 are produced\")"
   ]
  },
  {
   "cell_type": "code",
   "execution_count": 8,
   "metadata": {},
   "outputs": [
    {
     "name": "stdout",
     "output_type": "stream",
     "text": [
      "(506, 105)\n",
      "Includes 78 interaction features, 13 features with power of 1, 13 features with power of 2, and intercept term\n"
     ]
    }
   ],
   "source": [
    "poly_no_interaction = PolynomialFeatures(degree = 2, interaction_only = False)\n",
    "X_no_interaction = poly_no_interaction.fit_transform(X)\n",
    "print(X_no_interaction.shape)\n",
    "print(\"Includes 78 interaction features, 13 features with power of 1, 13 features with power of 2, and intercept term\")"
   ]
  },
  {
   "cell_type": "markdown",
   "metadata": {},
   "source": [
    "Note: to achieve no interaction term at all, one must transform X by using np.hstack."
   ]
  },
  {
   "cell_type": "code",
   "execution_count": 9,
   "metadata": {},
   "outputs": [
    {
     "data": {
      "text/plain": [
       "(506, 26)"
      ]
     },
     "execution_count": 9,
     "metadata": {},
     "output_type": "execute_result"
    }
   ],
   "source": [
    "new_X = np.hstack((X, X**2))\n",
    "new_X.shape"
   ]
  },
  {
   "attachments": {},
   "cell_type": "markdown",
   "metadata": {},
   "source": []
  },
  {
   "cell_type": "code",
   "execution_count": 10,
   "metadata": {},
   "outputs": [
    {
     "data": {
      "text/html": [
       "<div>\n",
       "<style scoped>\n",
       "    .dataframe tbody tr th:only-of-type {\n",
       "        vertical-align: middle;\n",
       "    }\n",
       "\n",
       "    .dataframe tbody tr th {\n",
       "        vertical-align: top;\n",
       "    }\n",
       "\n",
       "    .dataframe thead th {\n",
       "        text-align: right;\n",
       "    }\n",
       "</style>\n",
       "<table border=\"1\" class=\"dataframe\">\n",
       "  <thead>\n",
       "    <tr style=\"text-align: right;\">\n",
       "      <th></th>\n",
       "      <th>train_MSE</th>\n",
       "      <th>test_MSE</th>\n",
       "    </tr>\n",
       "  </thead>\n",
       "  <tbody>\n",
       "    <tr>\n",
       "      <th>0</th>\n",
       "      <td>14.980271</td>\n",
       "      <td>10.091861</td>\n",
       "    </tr>\n",
       "    <tr>\n",
       "      <th>1</th>\n",
       "      <td>14.969661</td>\n",
       "      <td>8.791095</td>\n",
       "    </tr>\n",
       "    <tr>\n",
       "      <th>2</th>\n",
       "      <td>15.204169</td>\n",
       "      <td>11.458221</td>\n",
       "    </tr>\n",
       "    <tr>\n",
       "      <th>3</th>\n",
       "      <td>13.665059</td>\n",
       "      <td>22.518524</td>\n",
       "    </tr>\n",
       "    <tr>\n",
       "      <th>4</th>\n",
       "      <td>14.438738</td>\n",
       "      <td>14.223065</td>\n",
       "    </tr>\n",
       "    <tr>\n",
       "      <th>5</th>\n",
       "      <td>14.940824</td>\n",
       "      <td>8.780146</td>\n",
       "    </tr>\n",
       "    <tr>\n",
       "      <th>6</th>\n",
       "      <td>14.859624</td>\n",
       "      <td>12.953433</td>\n",
       "    </tr>\n",
       "    <tr>\n",
       "      <th>7</th>\n",
       "      <td>7.419826</td>\n",
       "      <td>104.037379</td>\n",
       "    </tr>\n",
       "    <tr>\n",
       "      <th>8</th>\n",
       "      <td>14.605032</td>\n",
       "      <td>13.610872</td>\n",
       "    </tr>\n",
       "    <tr>\n",
       "      <th>9</th>\n",
       "      <td>14.050919</td>\n",
       "      <td>50.771795</td>\n",
       "    </tr>\n",
       "  </tbody>\n",
       "</table>\n",
       "</div>"
      ],
      "text/plain": [
       "   train_MSE    test_MSE\n",
       "0  14.980271   10.091861\n",
       "1  14.969661    8.791095\n",
       "2  15.204169   11.458221\n",
       "3  13.665059   22.518524\n",
       "4  14.438738   14.223065\n",
       "5  14.940824    8.780146\n",
       "6  14.859624   12.953433\n",
       "7   7.419826  104.037379\n",
       "8  14.605032   13.610872\n",
       "9  14.050919   50.771795"
      ]
     },
     "execution_count": 10,
     "metadata": {},
     "output_type": "execute_result"
    }
   ],
   "source": [
    "# save an instance of PolynomialFeatures with the given degree\n",
    "polynomial_features = PolynomialFeatures(degree = 2, interaction_only = False)\n",
    "\n",
    "# create polynomial regression model\n",
    "model = LinearRegression()\n",
    "\n",
    "# fit model to data, using the X with no interaction terms new_X\n",
    "model.fit(new_X, y)\n",
    "\n",
    "# perform 10-fold cross-validation on dataset with MSE\n",
    "scores_poly = cross_validate(model, new_X, y, scoring='neg_mean_squared_error', cv=10, return_train_score = True)\n",
    "\n",
    "# get train and test MSE from scores dict, multiply by -1 to get positive MSE\n",
    "train_MSE_poly = scores_poly[\"train_score\"] * -1 \n",
    "test_MSE_poly = scores_poly[\"test_score\"] * -1 \n",
    "\n",
    "# create dataframe containing the average MSE for train and test set for each fold\n",
    "mse_df_poly = pd.DataFrame({'train_MSE': train_MSE_poly, 'test_MSE': test_MSE_poly})\n",
    "mse_df_poly\n"
   ]
  },
  {
   "cell_type": "code",
   "execution_count": 11,
   "metadata": {},
   "outputs": [
    {
     "name": "stdout",
     "output_type": "stream",
     "text": [
      "Average training error (MSE) over 10-fold cross-validation: 13.913412317032257\n",
      "Average testing error (MSE) over 10-fold cross-validation: 25.72363917701756\n"
     ]
    }
   ],
   "source": [
    "print(\"Average training error (MSE) over 10-fold cross-validation:\", train_MSE_poly.mean())\n",
    "print(\"Average testing error (MSE) over 10-fold cross-validation:\", test_MSE_poly.mean())"
   ]
  },
  {
   "attachments": {},
   "cell_type": "markdown",
   "metadata": {},
   "source": [
    "<span style=\"color:orange\">**Findings:**</span>\n",
    "- The training error (MSE) of the 2-degree polynomial model (no interaction) with 13.92 has improved compared to the MSE of the linear model (21.4) \n",
    "- Also the testing error (MSE) of the 2-degree polynomial model (no interaction) with 25.72 has improved compared to the MSE of the linear model (34.7) \n",
    "\n",
    "Both errors are smaller than in the linear model. This means that the polynomial model fits the data better than a straight line.\n",
    "\n",
    "- Again, we have folds with high variance that are significantly worse on the unseen data than other folds, such as fold 8 and 10"
   ]
  },
  {
   "attachments": {},
   "cell_type": "markdown",
   "metadata": {},
   "source": [
    "#### Question 1.4 (10 points)\n",
    "\n",
    "Perform cross-validation using ridge regression and lasso regression on different feature combinations (linear features vs. polynomial features obtained earlier respectively. Explain which method works better in this case. Check the coefficients and explain the differences between ridge regression and lasso regression."
   ]
  },
  {
   "attachments": {},
   "cell_type": "markdown",
   "metadata": {},
   "source": [
    "##### Linear features"
   ]
  },
  {
   "cell_type": "code",
   "execution_count": 12,
   "metadata": {},
   "outputs": [
    {
     "name": "stdout",
     "output_type": "stream",
     "text": [
      "Ridge Regression - Linear Features:\n",
      "Average training error over 10-k cv with ridge regression (linear): 21.58114506497026\n",
      "Average testing error over 10-k cv with ridge regression (linear): 34.07824620925931\n",
      "Coefficients\n",
      "    feature  coefficient\n",
      "0      CRIM    -0.150575\n",
      "1        ZN     0.058798\n",
      "2     INDUS    -0.035243\n",
      "3      CHAS     2.424039\n",
      "4       NOX    -8.099813\n",
      "5        RM     3.543438\n",
      "6       AGE    -0.002831\n",
      "7       DIS    -1.472918\n",
      "8       RAD     0.351650\n",
      "9       TAX    -0.015446\n",
      "10  PTRATIO    -0.821765\n",
      "11        B     0.007758\n",
      "12    LSTAT    -0.570019\n"
     ]
    }
   ],
   "source": [
    "# Ridge Regression\n",
    "X_names = ['CRIM', 'ZN', 'INDUS', 'CHAS', 'NOX', 'RM', 'AGE', 'DIS', 'RAD', 'TAX', 'PTRATIO', 'B', 'LSTAT']\n",
    "\n",
    "ridge_reg = Ridge()\n",
    "cv_scores_rl = cross_validate(ridge_reg, X, y, cv=10, scoring='neg_mean_squared_error', return_train_score=True)\n",
    "\n",
    "# get train and test MSE from scores dict, multiply by -1 to get positive MSE\n",
    "train_MSE_rl = cv_scores_rl[\"train_score\"] * -1 \n",
    "test_MSE_rl = cv_scores_rl[\"test_score\"] * -1 \n",
    "\n",
    "print(\"Ridge Regression - Linear Features:\")\n",
    "print(\"Average training error over 10-k cv with ridge regression (linear):\", train_MSE_rl.mean())\n",
    "print(\"Average testing error over 10-k cv with ridge regression (linear):\", test_MSE_rl.mean())\n",
    "\n",
    "# Create dataframe with feature names and coefficients\n",
    "ridge_reg.fit(X_train, y_train)\n",
    "ridge_coefs = pd.DataFrame({'feature': X_names, 'coefficient': ridge_reg.coef_})\n",
    "print(\"Coefficients\")\n",
    "print(ridge_coefs)"
   ]
  },
  {
   "cell_type": "code",
   "execution_count": 13,
   "metadata": {},
   "outputs": [
    {
     "name": "stdout",
     "output_type": "stream",
     "text": [
      "\n",
      "Lasso Regression - Linear Features:\n",
      "Average training error over 10-k cv with lasso regression (linear): 26.446016110077032\n",
      "Average testing error over 10-k cv with lasso regression (linear): 34.46408458830231\n",
      "Coefficients\n",
      "    feature  coefficient\n",
      "0      CRIM    -0.100439\n",
      "1        ZN     0.061775\n",
      "2     INDUS    -0.000000\n",
      "3      CHAS     0.000000\n",
      "4       NOX    -0.000000\n",
      "5        RM     0.737827\n",
      "6       AGE     0.025951\n",
      "7       DIS    -0.752248\n",
      "8       RAD     0.334002\n",
      "9       TAX    -0.018118\n",
      "10  PTRATIO    -0.694069\n",
      "11        B     0.006781\n",
      "12    LSTAT    -0.793181\n"
     ]
    }
   ],
   "source": [
    "# Lasso regression\n",
    "lasso_reg = Lasso(max_iter=5000)\n",
    "\n",
    "cv_scores_ll = cross_validate(lasso_reg, X, y, cv=10, scoring='neg_mean_squared_error', return_train_score=True)\n",
    "\n",
    "# get train and test MSE from scores dict, multiply by -1 to get positive MSE\n",
    "train_MSE_ll = cv_scores_ll[\"train_score\"] * -1 \n",
    "test_MSE_ll = cv_scores_ll[\"test_score\"] * -1 \n",
    "\n",
    "print(\"\\nLasso Regression - Linear Features:\")\n",
    "print(\"Average training error over 10-k cv with lasso regression (linear):\", train_MSE_ll.mean())\n",
    "print(\"Average testing error over 10-k cv with lasso regression (linear):\", test_MSE_ll.mean())\n",
    "\n",
    "lasso_reg.fit(X_train, y_train)\n",
    "lasso_coefs = pd.DataFrame({'feature': X_names, 'coefficient': lasso_reg.coef_})\n",
    "print(\"Coefficients\")\n",
    "print(lasso_coefs)"
   ]
  },
  {
   "attachments": {},
   "cell_type": "markdown",
   "metadata": {},
   "source": [
    "##### Polynomial features"
   ]
  },
  {
   "cell_type": "code",
   "execution_count": 14,
   "metadata": {},
   "outputs": [
    {
     "name": "stdout",
     "output_type": "stream",
     "text": [
      "Ridge Regression - Polynomial Features:\n",
      "Average training error over 10-k cv with ridge regression (poly): 14.201739336116793\n",
      "Average testing error over 10-k cv with ridge regression (poly): 26.942921093602394\n"
     ]
    }
   ],
   "source": [
    "# Ridge Regression\n",
    "cv_scores_rp = cross_validate(ridge_reg, new_X, y, cv=10, scoring='neg_mean_squared_error', return_train_score=True)\n",
    "\n",
    "# get train and test MSE from scores dict, multiply by -1 to get positive MSE\n",
    "train_MSE_rp = cv_scores_rp[\"train_score\"] * -1 \n",
    "test_MSE_rp = cv_scores_rp[\"test_score\"] * -1 \n",
    "\n",
    "print(\"Ridge Regression - Polynomial Features:\")\n",
    "print(\"Average training error over 10-k cv with ridge regression (poly):\", train_MSE_rp.mean())\n",
    "print(\"Average testing error over 10-k cv with ridge regression (poly):\", test_MSE_rp.mean())"
   ]
  },
  {
   "cell_type": "code",
   "execution_count": 15,
   "metadata": {},
   "outputs": [
    {
     "name": "stdout",
     "output_type": "stream",
     "text": [
      "\n",
      "Lasso Regression - Polynomial Features:\n",
      "Average training error over 10-k cv with lasso regression (poly): 18.548501008872663\n",
      "Average testing error over 10-k cv with lasso regression (poly): 30.776932337350466\n"
     ]
    }
   ],
   "source": [
    "# Lasso regression\n",
    "cv_scores_lp = cross_validate(lasso_reg, new_X, y, cv=10, scoring='neg_mean_squared_error', return_train_score=True)\n",
    "\n",
    "# get train and test MSE from scores dict, multiply by -1 to get positive MSE\n",
    "train_MSE_lp = cv_scores_lp[\"train_score\"] * -1 \n",
    "test_MSE_lp = cv_scores_lp[\"test_score\"] * -1 \n",
    "\n",
    "print(\"\\nLasso Regression - Polynomial Features:\")\n",
    "print(\"Average training error over 10-k cv with lasso regression (poly):\", train_MSE_lp.mean())\n",
    "print(\"Average testing error over 10-k cv with lasso regression (poly):\", test_MSE_lp.mean())\n"
   ]
  },
  {
   "attachments": {},
   "cell_type": "markdown",
   "metadata": {},
   "source": [
    "<span style=\"color:orange\">**Findings:**</span>\n",
    "Which method works better?\n",
    "- For the linear model: The testing error is almost the same for both ridge regression (34.08) and lasso regression (34.46). The training error with ridge regression is performing slightly better (21.58) than the training error with lasso regression (26.4)\n",
    "- For the 2-degree polynomial model: The ridge regression performed slightly better with a testing error of 26.9 and a training error of 14.2 than the lasso regression with a testing error of 30.8 and a training error of 18.5.\n",
    "\n",
    "<span style=\"color:orange\">**Difference between ridge and lasso regression:**</span>\n",
    "Both ridge and lasso regression are regularization techniques that can be used to prevent overfitting and improve model generalization. They work by penalizing high values of parameters θ to reduce the effect of some features on the model’s predicted value. More precisely, a penalty term is added to the loss function. The MSE is then calculated with this penalty term and then the best line is chosen for the regularized cost function.\n",
    "\n",
    "- Ridge regression is a L2 regularized version of Linear regression. The weights are penalized in proportion to the sum of the squares of the weights. If parameter lambda is set very high, the parameters (/ model weights) will shrink close to zero, but they will never be 0.\n",
    "\n",
    "- Lasso regression is a L1 regularized version of Linear Regression. The weights are penalized in proportion to sthe um of the absolute values of the weights. L1 can (unlike L2) push certain weights to be 0. L1 therefore also performs feature selection. This can be seen by the coefficient of the features CHAS, INDUS, and NOX being set to 0.000000, so these features were removed."
   ]
  },
  {
   "attachments": {},
   "cell_type": "markdown",
   "metadata": {},
   "source": [
    "## Question 2 (25 points) - Cancer Detection\n",
    "\n",
    "Given a dataset with features that are computed from a digitized image of a fine needle aspirate (FNA) of a breast mass, which describes characteristics of the cell nuclei present in the image, let's try to predict whether the patients are diagnosed as Malignant (M) or Benign (B)."
   ]
  },
  {
   "cell_type": "code",
   "execution_count": 16,
   "metadata": {},
   "outputs": [],
   "source": [
    "# LOAD DATA \n",
    "\n",
    "from sklearn.datasets import load_breast_cancer\n",
    "\"\"\"\n",
    "DOCS:\n",
    "https://scikit-learn.org/stable/modules/generated/sklearn.datasets.load_breast_cancer.html#sklearn.datasets.load_breast_cancer\n",
    "\"\"\"\n",
    "X, y = load_breast_cancer(return_X_y=True)"
   ]
  },
  {
   "attachments": {},
   "cell_type": "markdown",
   "metadata": {},
   "source": [
    "<span style=\"color:orange\">**Performance Metric**</span>\n",
    "\n",
    "see class distribution as stated here: https://scikit-learn.org/stable/datasets/toy_dataset.html#breast-cancer-dataset\n",
    "\n",
    "0 = negative class = Malignant (=Cancer) = 212\n",
    "\n",
    "1 = positive class = Benign (=No cancer)= 357"
   ]
  },
  {
   "attachments": {},
   "cell_type": "markdown",
   "metadata": {},
   "source": [
    "Normally, one would choose Recall as performance metric for sick patient detection, when cost of **False Negative** is high, meaning we predict an actual positive (cancer) as negative. However in this dataset, an actual positive is represented by benign tumor (no cancer). \n",
    "\n",
    "So for our dataset, the cost of **False Positive** (actually negative (0 = cancer) but we predicted positive (1 = no cancer) is high. \n",
    "\n",
    "Therefore I'm using precision as a score, measuring how accurate is our model out of those being predicted as positive.\n"
   ]
  },
  {
   "attachments": {},
   "cell_type": "markdown",
   "metadata": {},
   "source": [
    "#### Question 2.1 (5 points) \n",
    "Use logistic regression to train the dataset through cross-validation, report the score on train and test set, respectively. Explain your findings."
   ]
  },
  {
   "cell_type": "code",
   "execution_count": 17,
   "metadata": {},
   "outputs": [
    {
     "name": "stdout",
     "output_type": "stream",
     "text": [
      "Mean Precision on Training set: 0.9613558441408451\n",
      "Mean Precision on Testing set: 0.9574495360021675\n"
     ]
    }
   ],
   "source": [
    "# instantiate the model\n",
    "logreg = LogisticRegression(max_iter=10000)\n",
    "\n",
    "# perform 10-fold cross-validation on dataset with recall\n",
    "scores_log = cross_validate(logreg, X, y, scoring='precision', cv=10, return_train_score = True)\n",
    "\n",
    "# get train and test recall from scores dict\n",
    "train_MSE_log = scores_log[\"train_score\"]\n",
    "test_MSE_log = scores_log[\"test_score\"]\n",
    "\n",
    "print(\"Mean Precision on Training set:\", train_MSE_log.mean())\n",
    "print(\"Mean Precision on Testing set:\", test_MSE_log.mean())"
   ]
  },
  {
   "attachments": {},
   "cell_type": "markdown",
   "metadata": {},
   "source": [
    "<span style=\"color:orange\">**Findings:**</span>\n",
    "After training the dataset through 10-fold cross-validation using logistic regression, we get an average precision of 0.96 on the training set, and a slightly worse recall of 0.95 on the testing set.\n",
    "\n",
    "The results show that the logistic regression model achieved high precision scores on both the training set (0.961) and testing set (0.957). This suggests that the model is performing well and is able to generalize to new, unseen data. But with the extremely high cost of misdiagnosing cancer as no cancer, we want to get the precision as high as possible."
   ]
  },
  {
   "attachments": {},
   "cell_type": "markdown",
   "metadata": {},
   "source": [
    "#### Question 2.2 (5 points) \n",
    "By default, sklearn's logistic regression uses the L2 regularization. Now use the logistic regression without any regularzation to perform cross validation, report what do you find on train and test set."
   ]
  },
  {
   "cell_type": "code",
   "execution_count": 18,
   "metadata": {},
   "outputs": [
    {
     "name": "stdout",
     "output_type": "stream",
     "text": [
      "Mean Precision on Training set: 0.91765770934469\n",
      "Mean Precision on Testing set: 0.9180184203017021\n"
     ]
    }
   ],
   "source": [
    "# instantiate the model without any regularization\n",
    "logreg2 = LogisticRegression(max_iter=10000, penalty='none', solver=\"saga\")\n",
    "\n",
    "# perform 10-fold cross-validation on dataset with recall\n",
    "scores_log2 = cross_validate(logreg2, X, y, cv=10, scoring='precision', return_train_score=True)\n",
    "\n",
    "# print train and test recall from scores dict\n",
    "print(\"Mean Precision on Training set:\", scores_log2[\"train_score\"].mean())\n",
    "print(\"Mean Precision on Testing set:\", scores_log2[\"test_score\"].mean())"
   ]
  },
  {
   "attachments": {},
   "cell_type": "markdown",
   "metadata": {},
   "source": [
    "<span style=\"color:orange\">**Findings:**</span>\n",
    "The model that is not using any regularization is performing worse than the one using l2 regularization (ridge regression). The new model only achieves an average precision of 0.92 on the training set (vs. 0.96 with l2) and 0.92 (vs. 0.96 with l2) on the testing set.\n",
    "\n",
    "Reducing the complexity of the model produces a better precision."
   ]
  },
  {
   "attachments": {},
   "cell_type": "markdown",
   "metadata": {},
   "source": [
    "#### Question 2.3 (15 points) \n",
    "Check how many Benign and Malignant cases in the dataset. What might be the problem if we use the default score of the logistic regression cross-validation? Now adjust the class weight of M and L and retrain the model again to bias toward Malignant, using the relative weight of M and L as 2:1. What about the relaive weight to be 5:1, or 10:1? Explain what you find.\n",
    "\n",
    "Hint: you can use LogisticRegressionCV to combine LogisticRegression and cross-validation. "
   ]
  },
  {
   "attachments": {},
   "cell_type": "markdown",
   "metadata": {},
   "source": [
    "<span style=\"color:orange\">**Finding out how many benign and malignant cases are in the dataset**</span>\n",
    "\n",
    "see class distribution as stated here: https://scikit-learn.org/stable/datasets/toy_dataset.html#breast-cancer-dataset"
   ]
  },
  {
   "cell_type": "code",
   "execution_count": 19,
   "metadata": {},
   "outputs": [
    {
     "data": {
      "text/plain": [
       "{0: 212, 1: 357}"
      ]
     },
     "execution_count": 19,
     "metadata": {},
     "output_type": "execute_result"
    }
   ],
   "source": [
    "unique, counts = np.unique(y, return_counts=True)\n",
    "dict(zip(unique, counts))"
   ]
  },
  {
   "attachments": {},
   "cell_type": "markdown",
   "metadata": {},
   "source": [
    "0 = negative class = Malignant (=Cancer) = 212\n",
    "\n",
    "1 = positive class = Benign = 357\n",
    "\n",
    "We have class imbalance. Model might struggle to learn the patterns of the minority class (Malignant), may become biased towards the majority class (Benign). \n",
    "\n",
    "<span style=\"color:orange\">**The problem with the default score**</span>\n",
    "The default score of the logistic regression cross-validation is mean accuracy. Accuracy is not a good metric for imbalanced dataset. A model might have good accuracy by achieving the high accuracy with always predicts the majority class - a model like this is essentially useless.\n",
    "\n",
    "Also for the case of sick patient detection, we are more interested in the model actually predicting cancer if the patient has cancer (normally recall, in this case as discussed earlier precision).\n",
    "\n",
    "<span style=\"color:orange\">**Adjusting the class weight**</span>\n",
    "One solution is to modify the class weights to bias the model towards the Malignant class. We may do this by giving the Malignant class a heavier weight than the Benign class during training. The class weight parameter in the LogisticRegression model can be used to change the relative weight of the classes."
   ]
  },
  {
   "cell_type": "code",
   "execution_count": 20,
   "metadata": {},
   "outputs": [
    {
     "name": "stdout",
     "output_type": "stream",
     "text": [
      "Number of malignant cases: 212 (37.26%)\n",
      "Number of benign cases: 357 (62.74%)\n",
      "Score with 2:1 class weight ratio: 0.956140350877193\n",
      "Score with 5:1 class weight ratio: 0.9473684210526315\n",
      "Score with 10:1 class weight ratio: 0.9473684210526315\n"
     ]
    }
   ],
   "source": [
    "# Split data into training and testing sets\n",
    "X_train, X_test, y_train, y_test = train_test_split(X, y, test_size=0.2, random_state=seed)\n",
    "\n",
    "# Count number of samples in each class\n",
    "n_samples = y.shape[0]\n",
    "n_malignant = sum(y == 0) # 0 = negative class = Malignant (=Cancer)\n",
    "n_benign = sum(y == 1) # 1 = positive class = Benign\n",
    "\n",
    "print(f\"Number of malignant cases: {n_malignant} ({n_malignant / n_samples:.2%})\")\n",
    "print(f\"Number of benign cases: {n_benign} ({n_benign / n_samples:.2%})\")\n",
    "\n",
    "# Define logistic regression model with class weights\n",
    "clf_2to1 = LogisticRegressionCV(class_weight={0: 2, 1: 1}, cv=10, max_iter=10000)\n",
    "clf_5to1 = LogisticRegressionCV(class_weight={0: 5, 1: 1}, cv=10, max_iter=10000)\n",
    "clf_10to1 = LogisticRegressionCV(class_weight={0: 10, 1: 1}, cv=10, max_iter=10000)\n",
    "\n",
    "# train model with 2:1 class weight ratio and evaluate model on test set\n",
    "clf_2to1.fit(X_train, y_train)\n",
    "score_2to1 = clf_2to1.score(X_test, y_test)\n",
    "print(f\"Score with 2:1 class weight ratio: {score_2to1}\")\n",
    "\n",
    "# Train model with 5:1 class weight ratio and evaluate model on test set\n",
    "clf_5to1.fit(X_train, y_train)\n",
    "score_5to1 = clf_5to1.score(X_test, y_test)\n",
    "print(f\"Score with 5:1 class weight ratio: {score_5to1}\")\n",
    "\n",
    "# Train model with 10:1 class weight ratio and evaluate model on test set\n",
    "clf_10to1.fit(X_train, y_train)\n",
    "score_10to1 = clf_10to1.score(X_test, y_test)\n",
    "print(f\"Score with 10:1 class weight ratio: {score_10to1}\")"
   ]
  },
  {
   "cell_type": "code",
   "execution_count": 21,
   "metadata": {},
   "outputs": [
    {
     "name": "stdout",
     "output_type": "stream",
     "text": [
      "              precision    recall  f1-score   support\n",
      "\n",
      "           0       0.96      0.93      0.94       212\n",
      "           1       0.96      0.97      0.97       357\n",
      "\n",
      "    accuracy                           0.96       569\n",
      "   macro avg       0.96      0.95      0.95       569\n",
      "weighted avg       0.96      0.96      0.96       569\n",
      "\n"
     ]
    }
   ],
   "source": [
    "# normal class weight ratio (with l2 regularization)\n",
    "logreg.fit(X, y)\n",
    "y_pred_normal = logreg.predict(X)\n",
    "print(classification_report(y, y_pred_normal))"
   ]
  },
  {
   "cell_type": "code",
   "execution_count": 22,
   "metadata": {},
   "outputs": [
    {
     "name": "stdout",
     "output_type": "stream",
     "text": [
      "              precision    recall  f1-score   support\n",
      "\n",
      "           0       0.94      0.98      0.96       212\n",
      "           1       0.99      0.96      0.97       357\n",
      "\n",
      "    accuracy                           0.97       569\n",
      "   macro avg       0.96      0.97      0.97       569\n",
      "weighted avg       0.97      0.97      0.97       569\n",
      "\n"
     ]
    }
   ],
   "source": [
    "# 2:1 class weight ratio\n",
    "y_pred_2to1 = clf_2to1.predict(X)\n",
    "print(classification_report(y, y_pred_2to1))"
   ]
  },
  {
   "cell_type": "code",
   "execution_count": 23,
   "metadata": {},
   "outputs": [
    {
     "name": "stdout",
     "output_type": "stream",
     "text": [
      "              precision    recall  f1-score   support\n",
      "\n",
      "           0       0.92      0.99      0.95       212\n",
      "           1       0.99      0.95      0.97       357\n",
      "\n",
      "    accuracy                           0.96       569\n",
      "   macro avg       0.96      0.97      0.96       569\n",
      "weighted avg       0.97      0.96      0.96       569\n",
      "\n"
     ]
    }
   ],
   "source": [
    "# 5:1 class weight ratio\n",
    "y_pred_5to1 = clf_5to1.predict(X)\n",
    "print(classification_report(y, y_pred_5to1))"
   ]
  },
  {
   "cell_type": "code",
   "execution_count": 24,
   "metadata": {},
   "outputs": [
    {
     "name": "stdout",
     "output_type": "stream",
     "text": [
      "              precision    recall  f1-score   support\n",
      "\n",
      "           0       0.91      0.99      0.95       212\n",
      "           1       0.99      0.94      0.97       357\n",
      "\n",
      "    accuracy                           0.96       569\n",
      "   macro avg       0.95      0.96      0.96       569\n",
      "weighted avg       0.96      0.96      0.96       569\n",
      "\n"
     ]
    }
   ],
   "source": [
    "# 10:1 class weight ratio\n",
    "y_pred_10to1 = clf_10to1.predict(X)\n",
    "print(classification_report(y, y_pred_10to1))"
   ]
  },
  {
   "attachments": {},
   "cell_type": "markdown",
   "metadata": {},
   "source": [
    "<span style=\"color:orange\">**Findings**</span>\n",
    "Since the dataset is balanced towards benign cases, we tried changing the weight. We retrained the model again to bias toward Malignant by setting the class_weight={0: 2, 1: 1}. This means that the model will weigh the malignant class samples twice as much as the benign class samples during training.\n",
    "\n",
    "Since the model is performing worse the more we changed the weight towards Malignant, it seems like we overcompensated for the class imbalance and end up biasing the model too much towards the malignant class."
   ]
  },
  {
   "attachments": {},
   "cell_type": "markdown",
   "metadata": {},
   "source": [
    "## Question 3 (50 points) - Call Me Maybe? \n",
    "\n",
    "\n",
    "\n",
    "![telemarketing](https://neilpatel.com/wp-content/uploads/2019/08/profissional-de-telemarketing-sorridente.jpeg)\n",
    "\n",
    "Telemarketing is a method of direct marketing in which a salesperson solicits prospective customers to buy products or services over the phone. It has become one of the most widely used marketing campaign methods to engage with customers with product and service opportunity. We have collected real data from a Portuguese retail bank, from May 2008 to June 2013 with thousands of phone contacts. \n",
    "\n",
    "\n",
    "\n",
    "\n",
    "The current practice of many data teams is to build such propensity models and predict customer's probability to adopt the product and target them from the highest probability to the lowest probability. Note that telemarketing may incur some costs for contacting the customer, thus the success (i.e., the generated profit) of using machine learning model requries further inspection.  As the data scientist, you are asked to build a propensity model to evaluate the effectiveness of their telemarketing campaigns, i.e. whether the customer subscribed to the term deposit.  \n",
    "\n",
    "**Telemarketing Dataset (bank.csv)**\n",
    "All customers are contained in the file bank.csv. Each line of this file after the header row represents one customer of the Portuguese bank, and has the following format:\n",
    "\n",
    "### bank client data:\n",
    "- age (numeric)\n",
    "- job : type of job (categorical: 'admin.','blue-collar','entrepreneur','housemaid','management','retired','self-employed','services','student','technician','unemployed','unknown')\n",
    "- marital : marital status (categorical: 'divorced','married','single','unknown'; note: 'divorced' means divorced or widowed)\n",
    "- education (categorical: 'primary', 'secondary', 'tertiary')\n",
    "- balance: amcount of bank account balance\n",
    "- default: has credit in default? (categorical: 'no','yes','unknown')\n",
    "- housing: has housing loan? (categorical: 'no','yes','unknown')\n",
    "- loan: has personal loan? (categorical: 'no','yes','unknown')\n",
    "\n",
    "### related with the last contact of the current campaign:\n",
    "- contact: contact communication type (categorical: 'cellular','telephone', 'unknown')\n",
    "- day: last contact day of month\n",
    "- month: last contact month of year (categorical: 'jan', 'feb', 'mar', ..., 'nov', 'dec')\n",
    "- duration: last contact duration, in seconds (numeric). Important note: this attribute highly affects the output target (e.g., if duration=0 then y='no'). Yet, the duration is not known before a call is performed. \n",
    "\n",
    "### other attributes:\n",
    "- campaign: number of contacts performed during this campaign and for this client (numeric, includes last contact)\n",
    "- pdays: number of days that passed by after the client was last contacted from a previous campaign (numeric; -1 means client was not previously contacted)\n",
    "- previous: number of contacts performed before this campaign and for this client (numeric)\n",
    "- poutcome: outcome of the previous marketing campaign (categorical: 'failure','nonexistent','success')\n",
    "- y - has the client subscribed a term deposit? (binary: 'yes','no')\n",
    "\n",
    "\n",
    "Answer the following questions using the provided dataset. You can write down intermediate results towards the final answers. If any model invovles random_state, set it to be 42."
   ]
  },
  {
   "cell_type": "code",
   "execution_count": 25,
   "metadata": {},
   "outputs": [
    {
     "data": {
      "text/html": [
       "<div>\n",
       "<style scoped>\n",
       "    .dataframe tbody tr th:only-of-type {\n",
       "        vertical-align: middle;\n",
       "    }\n",
       "\n",
       "    .dataframe tbody tr th {\n",
       "        vertical-align: top;\n",
       "    }\n",
       "\n",
       "    .dataframe thead th {\n",
       "        text-align: right;\n",
       "    }\n",
       "</style>\n",
       "<table border=\"1\" class=\"dataframe\">\n",
       "  <thead>\n",
       "    <tr style=\"text-align: right;\">\n",
       "      <th></th>\n",
       "      <th>age</th>\n",
       "      <th>job</th>\n",
       "      <th>marital</th>\n",
       "      <th>education</th>\n",
       "      <th>default</th>\n",
       "      <th>balance</th>\n",
       "      <th>housing</th>\n",
       "      <th>loan</th>\n",
       "      <th>contact</th>\n",
       "      <th>day</th>\n",
       "      <th>month</th>\n",
       "      <th>duration</th>\n",
       "      <th>campaign</th>\n",
       "      <th>pdays</th>\n",
       "      <th>previous</th>\n",
       "      <th>poutcome</th>\n",
       "      <th>y</th>\n",
       "    </tr>\n",
       "  </thead>\n",
       "  <tbody>\n",
       "    <tr>\n",
       "      <th>0</th>\n",
       "      <td>30</td>\n",
       "      <td>unemployed</td>\n",
       "      <td>married</td>\n",
       "      <td>primary</td>\n",
       "      <td>no</td>\n",
       "      <td>1787</td>\n",
       "      <td>no</td>\n",
       "      <td>no</td>\n",
       "      <td>cellular</td>\n",
       "      <td>19</td>\n",
       "      <td>oct</td>\n",
       "      <td>79</td>\n",
       "      <td>1</td>\n",
       "      <td>-1</td>\n",
       "      <td>0</td>\n",
       "      <td>unknown</td>\n",
       "      <td>no</td>\n",
       "    </tr>\n",
       "    <tr>\n",
       "      <th>1</th>\n",
       "      <td>33</td>\n",
       "      <td>services</td>\n",
       "      <td>married</td>\n",
       "      <td>secondary</td>\n",
       "      <td>no</td>\n",
       "      <td>4789</td>\n",
       "      <td>yes</td>\n",
       "      <td>yes</td>\n",
       "      <td>cellular</td>\n",
       "      <td>11</td>\n",
       "      <td>may</td>\n",
       "      <td>220</td>\n",
       "      <td>1</td>\n",
       "      <td>339</td>\n",
       "      <td>4</td>\n",
       "      <td>failure</td>\n",
       "      <td>no</td>\n",
       "    </tr>\n",
       "    <tr>\n",
       "      <th>2</th>\n",
       "      <td>35</td>\n",
       "      <td>management</td>\n",
       "      <td>single</td>\n",
       "      <td>tertiary</td>\n",
       "      <td>no</td>\n",
       "      <td>1350</td>\n",
       "      <td>yes</td>\n",
       "      <td>no</td>\n",
       "      <td>cellular</td>\n",
       "      <td>16</td>\n",
       "      <td>apr</td>\n",
       "      <td>185</td>\n",
       "      <td>1</td>\n",
       "      <td>330</td>\n",
       "      <td>1</td>\n",
       "      <td>failure</td>\n",
       "      <td>no</td>\n",
       "    </tr>\n",
       "    <tr>\n",
       "      <th>3</th>\n",
       "      <td>30</td>\n",
       "      <td>management</td>\n",
       "      <td>married</td>\n",
       "      <td>tertiary</td>\n",
       "      <td>no</td>\n",
       "      <td>1476</td>\n",
       "      <td>yes</td>\n",
       "      <td>yes</td>\n",
       "      <td>unknown</td>\n",
       "      <td>3</td>\n",
       "      <td>jun</td>\n",
       "      <td>199</td>\n",
       "      <td>4</td>\n",
       "      <td>-1</td>\n",
       "      <td>0</td>\n",
       "      <td>unknown</td>\n",
       "      <td>no</td>\n",
       "    </tr>\n",
       "    <tr>\n",
       "      <th>4</th>\n",
       "      <td>59</td>\n",
       "      <td>blue-collar</td>\n",
       "      <td>married</td>\n",
       "      <td>secondary</td>\n",
       "      <td>no</td>\n",
       "      <td>0</td>\n",
       "      <td>yes</td>\n",
       "      <td>no</td>\n",
       "      <td>unknown</td>\n",
       "      <td>5</td>\n",
       "      <td>may</td>\n",
       "      <td>226</td>\n",
       "      <td>1</td>\n",
       "      <td>-1</td>\n",
       "      <td>0</td>\n",
       "      <td>unknown</td>\n",
       "      <td>no</td>\n",
       "    </tr>\n",
       "  </tbody>\n",
       "</table>\n",
       "</div>"
      ],
      "text/plain": [
       "   age          job  marital  education default  balance housing loan  \\\n",
       "0   30   unemployed  married    primary      no     1787      no   no   \n",
       "1   33     services  married  secondary      no     4789     yes  yes   \n",
       "2   35   management   single   tertiary      no     1350     yes   no   \n",
       "3   30   management  married   tertiary      no     1476     yes  yes   \n",
       "4   59  blue-collar  married  secondary      no        0     yes   no   \n",
       "\n",
       "    contact  day month  duration  campaign  pdays  previous poutcome   y  \n",
       "0  cellular   19   oct        79         1     -1         0  unknown  no  \n",
       "1  cellular   11   may       220         1    339         4  failure  no  \n",
       "2  cellular   16   apr       185         1    330         1  failure  no  \n",
       "3   unknown    3   jun       199         4     -1         0  unknown  no  \n",
       "4   unknown    5   may       226         1     -1         0  unknown  no  "
      ]
     },
     "execution_count": 25,
     "metadata": {},
     "output_type": "execute_result"
    }
   ],
   "source": [
    "bank = pd.read_csv('bank.csv', sep=';')\n",
    "bank.head()"
   ]
  },
  {
   "cell_type": "code",
   "execution_count": 26,
   "metadata": {},
   "outputs": [
    {
     "data": {
      "text/plain": [
       "age           int64\n",
       "job          object\n",
       "marital      object\n",
       "education    object\n",
       "default      object\n",
       "balance       int64\n",
       "housing      object\n",
       "loan         object\n",
       "contact      object\n",
       "day           int64\n",
       "month        object\n",
       "duration      int64\n",
       "campaign      int64\n",
       "pdays         int64\n",
       "previous      int64\n",
       "poutcome     object\n",
       "y            object\n",
       "dtype: object"
      ]
     },
     "execution_count": 26,
     "metadata": {},
     "output_type": "execute_result"
    }
   ],
   "source": [
    "bank.dtypes"
   ]
  },
  {
   "cell_type": "code",
   "execution_count": 27,
   "metadata": {},
   "outputs": [
    {
     "data": {
      "text/html": [
       "<div>\n",
       "<style scoped>\n",
       "    .dataframe tbody tr th:only-of-type {\n",
       "        vertical-align: middle;\n",
       "    }\n",
       "\n",
       "    .dataframe tbody tr th {\n",
       "        vertical-align: top;\n",
       "    }\n",
       "\n",
       "    .dataframe thead th {\n",
       "        text-align: right;\n",
       "    }\n",
       "</style>\n",
       "<table border=\"1\" class=\"dataframe\">\n",
       "  <thead>\n",
       "    <tr style=\"text-align: right;\">\n",
       "      <th></th>\n",
       "      <th>age</th>\n",
       "      <th>balance</th>\n",
       "      <th>day</th>\n",
       "      <th>duration</th>\n",
       "      <th>campaign</th>\n",
       "      <th>pdays</th>\n",
       "      <th>previous</th>\n",
       "    </tr>\n",
       "  </thead>\n",
       "  <tbody>\n",
       "    <tr>\n",
       "      <th>count</th>\n",
       "      <td>4521.000000</td>\n",
       "      <td>4521.000000</td>\n",
       "      <td>4521.000000</td>\n",
       "      <td>4521.000000</td>\n",
       "      <td>4521.000000</td>\n",
       "      <td>4521.000000</td>\n",
       "      <td>4521.000000</td>\n",
       "    </tr>\n",
       "    <tr>\n",
       "      <th>mean</th>\n",
       "      <td>41.170095</td>\n",
       "      <td>1422.657819</td>\n",
       "      <td>15.915284</td>\n",
       "      <td>263.961292</td>\n",
       "      <td>2.793630</td>\n",
       "      <td>39.766645</td>\n",
       "      <td>0.542579</td>\n",
       "    </tr>\n",
       "    <tr>\n",
       "      <th>std</th>\n",
       "      <td>10.576211</td>\n",
       "      <td>3009.638142</td>\n",
       "      <td>8.247667</td>\n",
       "      <td>259.856633</td>\n",
       "      <td>3.109807</td>\n",
       "      <td>100.121124</td>\n",
       "      <td>1.693562</td>\n",
       "    </tr>\n",
       "    <tr>\n",
       "      <th>min</th>\n",
       "      <td>19.000000</td>\n",
       "      <td>-3313.000000</td>\n",
       "      <td>1.000000</td>\n",
       "      <td>4.000000</td>\n",
       "      <td>1.000000</td>\n",
       "      <td>-1.000000</td>\n",
       "      <td>0.000000</td>\n",
       "    </tr>\n",
       "    <tr>\n",
       "      <th>25%</th>\n",
       "      <td>33.000000</td>\n",
       "      <td>69.000000</td>\n",
       "      <td>9.000000</td>\n",
       "      <td>104.000000</td>\n",
       "      <td>1.000000</td>\n",
       "      <td>-1.000000</td>\n",
       "      <td>0.000000</td>\n",
       "    </tr>\n",
       "    <tr>\n",
       "      <th>50%</th>\n",
       "      <td>39.000000</td>\n",
       "      <td>444.000000</td>\n",
       "      <td>16.000000</td>\n",
       "      <td>185.000000</td>\n",
       "      <td>2.000000</td>\n",
       "      <td>-1.000000</td>\n",
       "      <td>0.000000</td>\n",
       "    </tr>\n",
       "    <tr>\n",
       "      <th>75%</th>\n",
       "      <td>49.000000</td>\n",
       "      <td>1480.000000</td>\n",
       "      <td>21.000000</td>\n",
       "      <td>329.000000</td>\n",
       "      <td>3.000000</td>\n",
       "      <td>-1.000000</td>\n",
       "      <td>0.000000</td>\n",
       "    </tr>\n",
       "    <tr>\n",
       "      <th>max</th>\n",
       "      <td>87.000000</td>\n",
       "      <td>71188.000000</td>\n",
       "      <td>31.000000</td>\n",
       "      <td>3025.000000</td>\n",
       "      <td>50.000000</td>\n",
       "      <td>871.000000</td>\n",
       "      <td>25.000000</td>\n",
       "    </tr>\n",
       "  </tbody>\n",
       "</table>\n",
       "</div>"
      ],
      "text/plain": [
       "               age       balance          day     duration     campaign  \\\n",
       "count  4521.000000   4521.000000  4521.000000  4521.000000  4521.000000   \n",
       "mean     41.170095   1422.657819    15.915284   263.961292     2.793630   \n",
       "std      10.576211   3009.638142     8.247667   259.856633     3.109807   \n",
       "min      19.000000  -3313.000000     1.000000     4.000000     1.000000   \n",
       "25%      33.000000     69.000000     9.000000   104.000000     1.000000   \n",
       "50%      39.000000    444.000000    16.000000   185.000000     2.000000   \n",
       "75%      49.000000   1480.000000    21.000000   329.000000     3.000000   \n",
       "max      87.000000  71188.000000    31.000000  3025.000000    50.000000   \n",
       "\n",
       "             pdays     previous  \n",
       "count  4521.000000  4521.000000  \n",
       "mean     39.766645     0.542579  \n",
       "std     100.121124     1.693562  \n",
       "min      -1.000000     0.000000  \n",
       "25%      -1.000000     0.000000  \n",
       "50%      -1.000000     0.000000  \n",
       "75%      -1.000000     0.000000  \n",
       "max     871.000000    25.000000  "
      ]
     },
     "execution_count": 27,
     "metadata": {},
     "output_type": "execute_result"
    }
   ],
   "source": [
    "bank.describe()"
   ]
  },
  {
   "cell_type": "code",
   "execution_count": 28,
   "metadata": {},
   "outputs": [
    {
     "data": {
      "text/plain": [
       "no     4000\n",
       "yes     521\n",
       "Name: y, dtype: int64"
      ]
     },
     "execution_count": 28,
     "metadata": {},
     "output_type": "execute_result"
    }
   ],
   "source": [
    "bank.y.value_counts()"
   ]
  },
  {
   "attachments": {},
   "cell_type": "markdown",
   "metadata": {},
   "source": [
    "<span style=\"color:orange\">**y:**</span> Only 11.5% (521/4521) of customers subscribed to a term deposit -> unbalanced data"
   ]
  },
  {
   "attachments": {},
   "cell_type": "markdown",
   "metadata": {},
   "source": [
    "### Question 3.1 (15 points)\n",
    "\n",
    "Split the data into 80% training set and 20% test set. **Build a pipeline to preprocess the indicated numerical features and categorical features separately**. For numerical features 'balance', 'campaign', standardize these features. For categorical features 'job', 'marital', 'education', 'default', transform them through one-hot encoding. For the numeric feature 'age', convert it into the quartile categorical variable and transform it through one-hot encoding. \n",
    "\n",
    "Train a Logistic regression model with L2 regularization using 5-fold cross validation (default hyperparameter) on the train set and show the accuracy, precision, recall on the train set. Explain whether the model is useful for the bank to identify the customer propensity."
   ]
  },
  {
   "cell_type": "code",
   "execution_count": 29,
   "metadata": {},
   "outputs": [],
   "source": [
    "# replaces the values 'yes' and 'no' in the y variable with 1 and 0 respectively\n",
    "X = bank.drop('y', axis = 1)\n",
    "y = bank[\"y\"] .replace({\"yes\": 1, \"no\": 0})"
   ]
  },
  {
   "cell_type": "code",
   "execution_count": 30,
   "metadata": {},
   "outputs": [],
   "source": [
    "# visualization of pipeline\n",
    "from sklearn import set_config\n",
    "set_config(display=\"diagram\")"
   ]
  },
  {
   "attachments": {},
   "cell_type": "markdown",
   "metadata": {},
   "source": [
    "Each subpipeline starts with a selector transformer: it simply transforms the data by selecting the desired attributes (numerical or categorical), dropping the rest, and converting the resulting DataFrame to a NumPy array."
   ]
  },
  {
   "cell_type": "code",
   "execution_count": 31,
   "metadata": {},
   "outputs": [],
   "source": [
    "# Create a class to select numerical or categorical columns \n",
    "class DataFrameSelector(BaseEstimator, TransformerMixin):\n",
    "    def __init__(self, attribute_names):\n",
    "        self.attribute_names = attribute_names\n",
    "    def fit(self, X, y=None):\n",
    "        return self\n",
    "    def transform(self, X):\n",
    "        return X[self.attribute_names].values"
   ]
  },
  {
   "cell_type": "code",
   "execution_count": 32,
   "metadata": {},
   "outputs": [
    {
     "data": {
      "text/plain": [
       "array([[ 0.12107186, -0.57682947,  0.        , ...,  0.        ,\n",
       "         0.        ,  0.        ],\n",
       "       [ 1.1186443 , -0.57682947,  0.        , ...,  1.        ,\n",
       "         0.        ,  0.        ],\n",
       "       [-0.02414438, -0.57682947,  0.        , ...,  1.        ,\n",
       "         0.        ,  0.        ],\n",
       "       ...,\n",
       "       [-0.37472364,  2.63916021,  0.        , ...,  0.        ,\n",
       "         0.        ,  1.        ],\n",
       "       [-0.09492484,  0.38796743,  0.        , ...,  0.        ,\n",
       "         0.        ,  0.        ],\n",
       "       [-0.09525714, -0.2552305 ,  0.        , ...,  0.        ,\n",
       "         1.        ,  0.        ]])"
      ]
     },
     "execution_count": 32,
     "metadata": {},
     "output_type": "execute_result"
    }
   ],
   "source": [
    "seed = 42\n",
    "\n",
    "# define attributes\n",
    "num_attribs = [\"balance\", \"campaign\"]\n",
    "cat_attribs = [\"job\", \"marital\", \"education\", \"default\"]\n",
    "age_attribs = [\"age\"]\n",
    "\n",
    "# define pipeline to apply feature scaling to numerical features\n",
    "num_pipeline = Pipeline([\n",
    "        ('selector', DataFrameSelector(num_attribs)),\n",
    "        ('std_scaler', StandardScaler())\n",
    "])\n",
    "\n",
    "# define pipeline to apply one-hot encoding to categorical values\n",
    "cat_pipeline = Pipeline([\n",
    "        ('selector', DataFrameSelector(cat_attribs)),\n",
    "        ('cat_encoder', OneHotEncoder(sparse=False, handle_unknown='ignore')),\n",
    "    ])\n",
    "\n",
    "# define pipeline to convert age into the quartile categorical variable and transform it through one-hot encoding. \n",
    "age_pipeline = Pipeline([\n",
    "        ('selector', DataFrameSelector(age_attribs)),\n",
    "        ('age_quantile_transform', KBinsDiscretizer(n_bins=4, encode='ordinal', strategy='quantile')),\n",
    "        ('cat_encoder', OneHotEncoder(sparse=False, handle_unknown='ignore')),\n",
    "    ])\n",
    "\n",
    "# apply different operations on num and cat by combining pipelines with ColumnTransformer\n",
    "preprocessing = ColumnTransformer([\n",
    "        (\"num\", num_pipeline, num_attribs),\n",
    "        (\"cat\", cat_pipeline, cat_attribs),\n",
    "        (\"age\", age_pipeline, age_attribs)\n",
    "    ])\n",
    "\n",
    "X_processed = preprocessing.fit_transform(bank)\n",
    "X_processed"
   ]
  },
  {
   "cell_type": "code",
   "execution_count": 33,
   "metadata": {},
   "outputs": [
    {
     "data": {
      "text/html": [
       "<style>#sk-e66cf075-a750-43aa-891b-afcbc9000eb1 {color: black;background-color: white;}#sk-e66cf075-a750-43aa-891b-afcbc9000eb1 pre{padding: 0;}#sk-e66cf075-a750-43aa-891b-afcbc9000eb1 div.sk-toggleable {background-color: white;}#sk-e66cf075-a750-43aa-891b-afcbc9000eb1 label.sk-toggleable__label {cursor: pointer;display: block;width: 100%;margin-bottom: 0;padding: 0.3em;box-sizing: border-box;text-align: center;}#sk-e66cf075-a750-43aa-891b-afcbc9000eb1 label.sk-toggleable__label-arrow:before {content: \"▸\";float: left;margin-right: 0.25em;color: #696969;}#sk-e66cf075-a750-43aa-891b-afcbc9000eb1 label.sk-toggleable__label-arrow:hover:before {color: black;}#sk-e66cf075-a750-43aa-891b-afcbc9000eb1 div.sk-estimator:hover label.sk-toggleable__label-arrow:before {color: black;}#sk-e66cf075-a750-43aa-891b-afcbc9000eb1 div.sk-toggleable__content {max-height: 0;max-width: 0;overflow: hidden;text-align: left;background-color: #f0f8ff;}#sk-e66cf075-a750-43aa-891b-afcbc9000eb1 div.sk-toggleable__content pre {margin: 0.2em;color: black;border-radius: 0.25em;background-color: #f0f8ff;}#sk-e66cf075-a750-43aa-891b-afcbc9000eb1 input.sk-toggleable__control:checked~div.sk-toggleable__content {max-height: 200px;max-width: 100%;overflow: auto;}#sk-e66cf075-a750-43aa-891b-afcbc9000eb1 input.sk-toggleable__control:checked~label.sk-toggleable__label-arrow:before {content: \"▾\";}#sk-e66cf075-a750-43aa-891b-afcbc9000eb1 div.sk-estimator input.sk-toggleable__control:checked~label.sk-toggleable__label {background-color: #d4ebff;}#sk-e66cf075-a750-43aa-891b-afcbc9000eb1 div.sk-label input.sk-toggleable__control:checked~label.sk-toggleable__label {background-color: #d4ebff;}#sk-e66cf075-a750-43aa-891b-afcbc9000eb1 input.sk-hidden--visually {border: 0;clip: rect(1px 1px 1px 1px);clip: rect(1px, 1px, 1px, 1px);height: 1px;margin: -1px;overflow: hidden;padding: 0;position: absolute;width: 1px;}#sk-e66cf075-a750-43aa-891b-afcbc9000eb1 div.sk-estimator {font-family: monospace;background-color: #f0f8ff;border: 1px dotted black;border-radius: 0.25em;box-sizing: border-box;margin-bottom: 0.5em;}#sk-e66cf075-a750-43aa-891b-afcbc9000eb1 div.sk-estimator:hover {background-color: #d4ebff;}#sk-e66cf075-a750-43aa-891b-afcbc9000eb1 div.sk-parallel-item::after {content: \"\";width: 100%;border-bottom: 1px solid gray;flex-grow: 1;}#sk-e66cf075-a750-43aa-891b-afcbc9000eb1 div.sk-label:hover label.sk-toggleable__label {background-color: #d4ebff;}#sk-e66cf075-a750-43aa-891b-afcbc9000eb1 div.sk-serial::before {content: \"\";position: absolute;border-left: 1px solid gray;box-sizing: border-box;top: 2em;bottom: 0;left: 50%;}#sk-e66cf075-a750-43aa-891b-afcbc9000eb1 div.sk-serial {display: flex;flex-direction: column;align-items: center;background-color: white;padding-right: 0.2em;padding-left: 0.2em;}#sk-e66cf075-a750-43aa-891b-afcbc9000eb1 div.sk-item {z-index: 1;}#sk-e66cf075-a750-43aa-891b-afcbc9000eb1 div.sk-parallel {display: flex;align-items: stretch;justify-content: center;background-color: white;}#sk-e66cf075-a750-43aa-891b-afcbc9000eb1 div.sk-parallel::before {content: \"\";position: absolute;border-left: 1px solid gray;box-sizing: border-box;top: 2em;bottom: 0;left: 50%;}#sk-e66cf075-a750-43aa-891b-afcbc9000eb1 div.sk-parallel-item {display: flex;flex-direction: column;position: relative;background-color: white;}#sk-e66cf075-a750-43aa-891b-afcbc9000eb1 div.sk-parallel-item:first-child::after {align-self: flex-end;width: 50%;}#sk-e66cf075-a750-43aa-891b-afcbc9000eb1 div.sk-parallel-item:last-child::after {align-self: flex-start;width: 50%;}#sk-e66cf075-a750-43aa-891b-afcbc9000eb1 div.sk-parallel-item:only-child::after {width: 0;}#sk-e66cf075-a750-43aa-891b-afcbc9000eb1 div.sk-dashed-wrapped {border: 1px dashed gray;margin: 0 0.4em 0.5em 0.4em;box-sizing: border-box;padding-bottom: 0.4em;background-color: white;position: relative;}#sk-e66cf075-a750-43aa-891b-afcbc9000eb1 div.sk-label label {font-family: monospace;font-weight: bold;background-color: white;display: inline-block;line-height: 1.2em;}#sk-e66cf075-a750-43aa-891b-afcbc9000eb1 div.sk-label-container {position: relative;z-index: 2;text-align: center;}#sk-e66cf075-a750-43aa-891b-afcbc9000eb1 div.sk-container {/* jupyter's `normalize.less` sets `[hidden] { display: none; }` but bootstrap.min.css set `[hidden] { display: none !important; }` so we also need the `!important` here to be able to override the default hidden behavior on the sphinx rendered scikit-learn.org. See: https://github.com/scikit-learn/scikit-learn/issues/21755 */display: inline-block !important;position: relative;}#sk-e66cf075-a750-43aa-891b-afcbc9000eb1 div.sk-text-repr-fallback {display: none;}</style><div id=\"sk-e66cf075-a750-43aa-891b-afcbc9000eb1\" class=\"sk-top-container\"><div class=\"sk-text-repr-fallback\"><pre>ColumnTransformer(transformers=[(&#x27;num&#x27;,\n",
       "                                 Pipeline(steps=[(&#x27;selector&#x27;,\n",
       "                                                  DataFrameSelector(attribute_names=[&#x27;balance&#x27;,\n",
       "                                                                                     &#x27;campaign&#x27;])),\n",
       "                                                 (&#x27;std_scaler&#x27;,\n",
       "                                                  StandardScaler())]),\n",
       "                                 [&#x27;balance&#x27;, &#x27;campaign&#x27;]),\n",
       "                                (&#x27;cat&#x27;,\n",
       "                                 Pipeline(steps=[(&#x27;selector&#x27;,\n",
       "                                                  DataFrameSelector(attribute_names=[&#x27;job&#x27;,\n",
       "                                                                                     &#x27;marital&#x27;,\n",
       "                                                                                     &#x27;education&#x27;,\n",
       "                                                                                     &#x27;default&#x27;])),\n",
       "                                                 (&#x27;cat_encoder&#x27;,\n",
       "                                                  OneHotEncoder(handle_unknown=&#x27;ignore&#x27;,\n",
       "                                                                sparse=False))]),\n",
       "                                 [&#x27;job&#x27;, &#x27;marital&#x27;, &#x27;education&#x27;, &#x27;default&#x27;]),\n",
       "                                (&#x27;age&#x27;,\n",
       "                                 Pipeline(steps=[(&#x27;selector&#x27;,\n",
       "                                                  DataFrameSelector(attribute_names=[&#x27;age&#x27;])),\n",
       "                                                 (&#x27;age_quantile_transform&#x27;,\n",
       "                                                  KBinsDiscretizer(encode=&#x27;ordinal&#x27;,\n",
       "                                                                   n_bins=4)),\n",
       "                                                 (&#x27;cat_encoder&#x27;,\n",
       "                                                  OneHotEncoder(handle_unknown=&#x27;ignore&#x27;,\n",
       "                                                                sparse=False))]),\n",
       "                                 [&#x27;age&#x27;])])</pre><b>Please rerun this cell to show the HTML repr or trust the notebook.</b></div><div class=\"sk-container\" hidden><div class=\"sk-item sk-dashed-wrapped\"><div class=\"sk-label-container\"><div class=\"sk-label sk-toggleable\"><input class=\"sk-toggleable__control sk-hidden--visually\" id=\"0d4e0d2c-3df2-4ac9-8b95-77babfce840d\" type=\"checkbox\" ><label for=\"0d4e0d2c-3df2-4ac9-8b95-77babfce840d\" class=\"sk-toggleable__label sk-toggleable__label-arrow\">ColumnTransformer</label><div class=\"sk-toggleable__content\"><pre>ColumnTransformer(transformers=[(&#x27;num&#x27;,\n",
       "                                 Pipeline(steps=[(&#x27;selector&#x27;,\n",
       "                                                  DataFrameSelector(attribute_names=[&#x27;balance&#x27;,\n",
       "                                                                                     &#x27;campaign&#x27;])),\n",
       "                                                 (&#x27;std_scaler&#x27;,\n",
       "                                                  StandardScaler())]),\n",
       "                                 [&#x27;balance&#x27;, &#x27;campaign&#x27;]),\n",
       "                                (&#x27;cat&#x27;,\n",
       "                                 Pipeline(steps=[(&#x27;selector&#x27;,\n",
       "                                                  DataFrameSelector(attribute_names=[&#x27;job&#x27;,\n",
       "                                                                                     &#x27;marital&#x27;,\n",
       "                                                                                     &#x27;education&#x27;,\n",
       "                                                                                     &#x27;default&#x27;])),\n",
       "                                                 (&#x27;cat_encoder&#x27;,\n",
       "                                                  OneHotEncoder(handle_unknown=&#x27;ignore&#x27;,\n",
       "                                                                sparse=False))]),\n",
       "                                 [&#x27;job&#x27;, &#x27;marital&#x27;, &#x27;education&#x27;, &#x27;default&#x27;]),\n",
       "                                (&#x27;age&#x27;,\n",
       "                                 Pipeline(steps=[(&#x27;selector&#x27;,\n",
       "                                                  DataFrameSelector(attribute_names=[&#x27;age&#x27;])),\n",
       "                                                 (&#x27;age_quantile_transform&#x27;,\n",
       "                                                  KBinsDiscretizer(encode=&#x27;ordinal&#x27;,\n",
       "                                                                   n_bins=4)),\n",
       "                                                 (&#x27;cat_encoder&#x27;,\n",
       "                                                  OneHotEncoder(handle_unknown=&#x27;ignore&#x27;,\n",
       "                                                                sparse=False))]),\n",
       "                                 [&#x27;age&#x27;])])</pre></div></div></div><div class=\"sk-parallel\"><div class=\"sk-parallel-item\"><div class=\"sk-item\"><div class=\"sk-label-container\"><div class=\"sk-label sk-toggleable\"><input class=\"sk-toggleable__control sk-hidden--visually\" id=\"42ff9620-44d6-43dd-bd70-4d5f4a2cc394\" type=\"checkbox\" ><label for=\"42ff9620-44d6-43dd-bd70-4d5f4a2cc394\" class=\"sk-toggleable__label sk-toggleable__label-arrow\">num</label><div class=\"sk-toggleable__content\"><pre>[&#x27;balance&#x27;, &#x27;campaign&#x27;]</pre></div></div></div><div class=\"sk-serial\"><div class=\"sk-item\"><div class=\"sk-serial\"><div class=\"sk-item\"><div class=\"sk-estimator sk-toggleable\"><input class=\"sk-toggleable__control sk-hidden--visually\" id=\"81bd42bc-25b1-4384-88a7-ac8e61b816d3\" type=\"checkbox\" ><label for=\"81bd42bc-25b1-4384-88a7-ac8e61b816d3\" class=\"sk-toggleable__label sk-toggleable__label-arrow\">DataFrameSelector</label><div class=\"sk-toggleable__content\"><pre>DataFrameSelector(attribute_names=[&#x27;balance&#x27;, &#x27;campaign&#x27;])</pre></div></div></div><div class=\"sk-item\"><div class=\"sk-estimator sk-toggleable\"><input class=\"sk-toggleable__control sk-hidden--visually\" id=\"91b309a2-8428-4ca2-9f7c-7e4d2e6a2f4c\" type=\"checkbox\" ><label for=\"91b309a2-8428-4ca2-9f7c-7e4d2e6a2f4c\" class=\"sk-toggleable__label sk-toggleable__label-arrow\">StandardScaler</label><div class=\"sk-toggleable__content\"><pre>StandardScaler()</pre></div></div></div></div></div></div></div></div><div class=\"sk-parallel-item\"><div class=\"sk-item\"><div class=\"sk-label-container\"><div class=\"sk-label sk-toggleable\"><input class=\"sk-toggleable__control sk-hidden--visually\" id=\"87e72361-15b2-4bd7-9ff1-3207510472a5\" type=\"checkbox\" ><label for=\"87e72361-15b2-4bd7-9ff1-3207510472a5\" class=\"sk-toggleable__label sk-toggleable__label-arrow\">cat</label><div class=\"sk-toggleable__content\"><pre>[&#x27;job&#x27;, &#x27;marital&#x27;, &#x27;education&#x27;, &#x27;default&#x27;]</pre></div></div></div><div class=\"sk-serial\"><div class=\"sk-item\"><div class=\"sk-serial\"><div class=\"sk-item\"><div class=\"sk-estimator sk-toggleable\"><input class=\"sk-toggleable__control sk-hidden--visually\" id=\"be37eb76-49c1-40ff-8c17-5dd6a81d1c4f\" type=\"checkbox\" ><label for=\"be37eb76-49c1-40ff-8c17-5dd6a81d1c4f\" class=\"sk-toggleable__label sk-toggleable__label-arrow\">DataFrameSelector</label><div class=\"sk-toggleable__content\"><pre>DataFrameSelector(attribute_names=[&#x27;job&#x27;, &#x27;marital&#x27;, &#x27;education&#x27;, &#x27;default&#x27;])</pre></div></div></div><div class=\"sk-item\"><div class=\"sk-estimator sk-toggleable\"><input class=\"sk-toggleable__control sk-hidden--visually\" id=\"0174d6d4-6706-46eb-981b-4a167df4b911\" type=\"checkbox\" ><label for=\"0174d6d4-6706-46eb-981b-4a167df4b911\" class=\"sk-toggleable__label sk-toggleable__label-arrow\">OneHotEncoder</label><div class=\"sk-toggleable__content\"><pre>OneHotEncoder(handle_unknown=&#x27;ignore&#x27;, sparse=False)</pre></div></div></div></div></div></div></div></div><div class=\"sk-parallel-item\"><div class=\"sk-item\"><div class=\"sk-label-container\"><div class=\"sk-label sk-toggleable\"><input class=\"sk-toggleable__control sk-hidden--visually\" id=\"b4fc60d5-1c24-4891-a8dd-b4ff66675385\" type=\"checkbox\" ><label for=\"b4fc60d5-1c24-4891-a8dd-b4ff66675385\" class=\"sk-toggleable__label sk-toggleable__label-arrow\">age</label><div class=\"sk-toggleable__content\"><pre>[&#x27;age&#x27;]</pre></div></div></div><div class=\"sk-serial\"><div class=\"sk-item\"><div class=\"sk-serial\"><div class=\"sk-item\"><div class=\"sk-estimator sk-toggleable\"><input class=\"sk-toggleable__control sk-hidden--visually\" id=\"d45fe0e1-cfd9-4312-9c12-03d092214c33\" type=\"checkbox\" ><label for=\"d45fe0e1-cfd9-4312-9c12-03d092214c33\" class=\"sk-toggleable__label sk-toggleable__label-arrow\">DataFrameSelector</label><div class=\"sk-toggleable__content\"><pre>DataFrameSelector(attribute_names=[&#x27;age&#x27;])</pre></div></div></div><div class=\"sk-item\"><div class=\"sk-estimator sk-toggleable\"><input class=\"sk-toggleable__control sk-hidden--visually\" id=\"949c2d7b-9ff4-416b-8078-e9d8d75eb7e3\" type=\"checkbox\" ><label for=\"949c2d7b-9ff4-416b-8078-e9d8d75eb7e3\" class=\"sk-toggleable__label sk-toggleable__label-arrow\">KBinsDiscretizer</label><div class=\"sk-toggleable__content\"><pre>KBinsDiscretizer(encode=&#x27;ordinal&#x27;, n_bins=4)</pre></div></div></div><div class=\"sk-item\"><div class=\"sk-estimator sk-toggleable\"><input class=\"sk-toggleable__control sk-hidden--visually\" id=\"63f091b0-b911-4279-8d9a-52f54df1b120\" type=\"checkbox\" ><label for=\"63f091b0-b911-4279-8d9a-52f54df1b120\" class=\"sk-toggleable__label sk-toggleable__label-arrow\">OneHotEncoder</label><div class=\"sk-toggleable__content\"><pre>OneHotEncoder(handle_unknown=&#x27;ignore&#x27;, sparse=False)</pre></div></div></div></div></div></div></div></div></div></div></div></div>"
      ],
      "text/plain": [
       "ColumnTransformer(transformers=[('num',\n",
       "                                 Pipeline(steps=[('selector',\n",
       "                                                  DataFrameSelector(attribute_names=['balance',\n",
       "                                                                                     'campaign'])),\n",
       "                                                 ('std_scaler',\n",
       "                                                  StandardScaler())]),\n",
       "                                 ['balance', 'campaign']),\n",
       "                                ('cat',\n",
       "                                 Pipeline(steps=[('selector',\n",
       "                                                  DataFrameSelector(attribute_names=['job',\n",
       "                                                                                     'marital',\n",
       "                                                                                     'education',\n",
       "                                                                                     'default'])),\n",
       "                                                 ('cat_encoder',\n",
       "                                                  OneHotEncoder(handle_unknown='ignore',\n",
       "                                                                sparse=False))]),\n",
       "                                 ['job', 'marital', 'education', 'default']),\n",
       "                                ('age',\n",
       "                                 Pipeline(steps=[('selector',\n",
       "                                                  DataFrameSelector(attribute_names=['age'])),\n",
       "                                                 ('age_quantile_transform',\n",
       "                                                  KBinsDiscretizer(encode='ordinal',\n",
       "                                                                   n_bins=4)),\n",
       "                                                 ('cat_encoder',\n",
       "                                                  OneHotEncoder(handle_unknown='ignore',\n",
       "                                                                sparse=False))]),\n",
       "                                 ['age'])])"
      ]
     },
     "execution_count": 33,
     "metadata": {},
     "output_type": "execute_result"
    }
   ],
   "source": [
    "preprocessing"
   ]
  },
  {
   "cell_type": "code",
   "execution_count": 34,
   "metadata": {},
   "outputs": [
    {
     "data": {
      "text/plain": [
       "{'fit_time': array([0.21530294, 0.07925606, 0.03249907, 0.03486705, 0.03722978]),\n",
       " 'score_time': array([0.00728607, 0.00346804, 0.00579715, 0.00444388, 0.00468612]),\n",
       " 'test_accuracy': array([0.88259669, 0.88381743, 0.88381743, 0.8824343 , 0.8824343 ]),\n",
       " 'test_precision': array([0., 0., 0., 0., 0.]),\n",
       " 'test_recall': array([0., 0., 0., 0., 0.])}"
      ]
     },
     "execution_count": 34,
     "metadata": {},
     "output_type": "execute_result"
    }
   ],
   "source": [
    "# split data into training and testing data sets\n",
    "# use processed X\n",
    "X_train, X_test, y_train, y_test = train_test_split(X_processed, y, test_size = 0.2, random_state=seed)\n",
    "\n",
    "# instantiate the model\n",
    "l2_reg = LogisticRegression(penalty='l2', random_state=seed)\n",
    "\n",
    "# perform cross-validation on the training data\n",
    "scoring = {\n",
    "    'accuracy': 'accuracy',\n",
    "    'precision': make_scorer(precision_score, zero_division=0),\n",
    "    'recall': 'recall'\n",
    "}\n",
    "cv_scores = cross_validate(l2_reg, X_train, y_train, cv=5, scoring=scoring)\n",
    "cv_scores"
   ]
  },
  {
   "cell_type": "code",
   "execution_count": 35,
   "metadata": {},
   "outputs": [
    {
     "name": "stdout",
     "output_type": "stream",
     "text": [
      "Accuracy: 0.8830200285795069\n",
      "Precision: 0.0\n",
      "Recall: 0.0\n"
     ]
    }
   ],
   "source": [
    "# display mean accuracy, precision, and recall over the 5 folds\n",
    "print(\"Accuracy:\", cv_scores['test_accuracy'].mean())\n",
    "print(\"Precision:\", cv_scores['test_precision'].mean())\n",
    "print(\"Recall:\", cv_scores['test_recall'].mean())"
   ]
  },
  {
   "attachments": {},
   "cell_type": "markdown",
   "metadata": {},
   "source": [
    "<span style=\"color:orange\">**Explain whether the model is useful for the bank to identify the customer propensity.**</span>\n",
    "\n",
    "This model achieves an accuracy of 0.88. However, Precision and Recall is 0, which gives us a hint that the model always outputs \"not adopt\" (0) and is therefore completely useless.\n",
    "\n",
    "This is a common problem amongst imbalanced datasets. "
   ]
  },
  {
   "attachments": {},
   "cell_type": "markdown",
   "metadata": {},
   "source": [
    "### Question 3.2 (10 points)\n",
    "\n",
    "Now add more features to the model to see if we can improve the performance (categorical features: 'housing', 'loan' and numerical features: 'day', 'duration'). Use the preprocess pipeline built previously to transform the data. \n",
    "\n",
    "Train a Logistic regression model with L1 regularization using 5-fold cross validation on the train set, by fine-tuning the hyperparameter alpha, i.e. the regularization strength from [0.001, 0.01, 0.1, 1]. Choose the correct score function that reflect the current data team's practice. Report the average score with the best hyperparameter. Does model performance improve, and if so, how?\n",
    "\n",
    "Expalin whether all features are useful for making prediction and why. List top 5 features that contribute to the prediction the most. If not all features are useful, list those unuseful features."
   ]
  },
  {
   "cell_type": "code",
   "execution_count": 36,
   "metadata": {},
   "outputs": [
    {
     "data": {
      "text/plain": [
       "(4521, 33)"
      ]
     },
     "execution_count": 36,
     "metadata": {},
     "output_type": "execute_result"
    }
   ],
   "source": [
    "# add more attributes\n",
    "num_attribs2 = [\"balance\", \"campaign\", \"day\", \"duration\"]\n",
    "cat_attribs2 = [\"job\", \"marital\", \"education\", \"default\", \"housing\", \"loan\"]\n",
    "age_attribs2 = ['age']\n",
    "\n",
    "# define pipeline to apply feature scaling to numerical features\n",
    "num_pipeline2 = Pipeline([\n",
    "        ('selector', DataFrameSelector(num_attribs2)),\n",
    "        ('std_scaler', StandardScaler())\n",
    "])\n",
    "\n",
    "# define pipeline to apply one-hot encoding to categorical values\n",
    "cat_pipeline2 = Pipeline([\n",
    "        ('selector', DataFrameSelector(cat_attribs2)),\n",
    "        ('cat_encoder', OneHotEncoder(sparse=False, handle_unknown='ignore')),\n",
    "    ])\n",
    "\n",
    "# define pipeline to convert age into the quartile categorical variable and transform it through one-hot encoding. \n",
    "age_pipeline2 = Pipeline([\n",
    "        ('selector', DataFrameSelector(age_attribs2)),\n",
    "        ('age_quantile_transform', KBinsDiscretizer(n_bins=4, encode='ordinal', strategy='quantile')),\n",
    "        ('cat_encoder', OneHotEncoder(sparse=False, handle_unknown='ignore')),\n",
    "    ])\n",
    "\n",
    "# apply different operations on num, cat, and age by combining pipelines with ColumnTransformer\n",
    "preprocessing2 = ColumnTransformer([\n",
    "        (\"num\", num_pipeline2, num_attribs2),\n",
    "        (\"cat\", cat_pipeline2, cat_attribs2),\n",
    "        (\"age\", age_pipeline2, age_attribs2)\n",
    "    ])\n",
    "\n",
    "X_processed2 = preprocessing2.fit_transform(bank)\n",
    "X_processed2.shape"
   ]
  },
  {
   "cell_type": "code",
   "execution_count": 37,
   "metadata": {},
   "outputs": [
    {
     "data": {
      "text/html": [
       "<style>#sk-9db0d5ff-16be-4fe1-8f81-c8ef47de0027 {color: black;background-color: white;}#sk-9db0d5ff-16be-4fe1-8f81-c8ef47de0027 pre{padding: 0;}#sk-9db0d5ff-16be-4fe1-8f81-c8ef47de0027 div.sk-toggleable {background-color: white;}#sk-9db0d5ff-16be-4fe1-8f81-c8ef47de0027 label.sk-toggleable__label {cursor: pointer;display: block;width: 100%;margin-bottom: 0;padding: 0.3em;box-sizing: border-box;text-align: center;}#sk-9db0d5ff-16be-4fe1-8f81-c8ef47de0027 label.sk-toggleable__label-arrow:before {content: \"▸\";float: left;margin-right: 0.25em;color: #696969;}#sk-9db0d5ff-16be-4fe1-8f81-c8ef47de0027 label.sk-toggleable__label-arrow:hover:before {color: black;}#sk-9db0d5ff-16be-4fe1-8f81-c8ef47de0027 div.sk-estimator:hover label.sk-toggleable__label-arrow:before {color: black;}#sk-9db0d5ff-16be-4fe1-8f81-c8ef47de0027 div.sk-toggleable__content {max-height: 0;max-width: 0;overflow: hidden;text-align: left;background-color: #f0f8ff;}#sk-9db0d5ff-16be-4fe1-8f81-c8ef47de0027 div.sk-toggleable__content pre {margin: 0.2em;color: black;border-radius: 0.25em;background-color: #f0f8ff;}#sk-9db0d5ff-16be-4fe1-8f81-c8ef47de0027 input.sk-toggleable__control:checked~div.sk-toggleable__content {max-height: 200px;max-width: 100%;overflow: auto;}#sk-9db0d5ff-16be-4fe1-8f81-c8ef47de0027 input.sk-toggleable__control:checked~label.sk-toggleable__label-arrow:before {content: \"▾\";}#sk-9db0d5ff-16be-4fe1-8f81-c8ef47de0027 div.sk-estimator input.sk-toggleable__control:checked~label.sk-toggleable__label {background-color: #d4ebff;}#sk-9db0d5ff-16be-4fe1-8f81-c8ef47de0027 div.sk-label input.sk-toggleable__control:checked~label.sk-toggleable__label {background-color: #d4ebff;}#sk-9db0d5ff-16be-4fe1-8f81-c8ef47de0027 input.sk-hidden--visually {border: 0;clip: rect(1px 1px 1px 1px);clip: rect(1px, 1px, 1px, 1px);height: 1px;margin: -1px;overflow: hidden;padding: 0;position: absolute;width: 1px;}#sk-9db0d5ff-16be-4fe1-8f81-c8ef47de0027 div.sk-estimator {font-family: monospace;background-color: #f0f8ff;border: 1px dotted black;border-radius: 0.25em;box-sizing: border-box;margin-bottom: 0.5em;}#sk-9db0d5ff-16be-4fe1-8f81-c8ef47de0027 div.sk-estimator:hover {background-color: #d4ebff;}#sk-9db0d5ff-16be-4fe1-8f81-c8ef47de0027 div.sk-parallel-item::after {content: \"\";width: 100%;border-bottom: 1px solid gray;flex-grow: 1;}#sk-9db0d5ff-16be-4fe1-8f81-c8ef47de0027 div.sk-label:hover label.sk-toggleable__label {background-color: #d4ebff;}#sk-9db0d5ff-16be-4fe1-8f81-c8ef47de0027 div.sk-serial::before {content: \"\";position: absolute;border-left: 1px solid gray;box-sizing: border-box;top: 2em;bottom: 0;left: 50%;}#sk-9db0d5ff-16be-4fe1-8f81-c8ef47de0027 div.sk-serial {display: flex;flex-direction: column;align-items: center;background-color: white;padding-right: 0.2em;padding-left: 0.2em;}#sk-9db0d5ff-16be-4fe1-8f81-c8ef47de0027 div.sk-item {z-index: 1;}#sk-9db0d5ff-16be-4fe1-8f81-c8ef47de0027 div.sk-parallel {display: flex;align-items: stretch;justify-content: center;background-color: white;}#sk-9db0d5ff-16be-4fe1-8f81-c8ef47de0027 div.sk-parallel::before {content: \"\";position: absolute;border-left: 1px solid gray;box-sizing: border-box;top: 2em;bottom: 0;left: 50%;}#sk-9db0d5ff-16be-4fe1-8f81-c8ef47de0027 div.sk-parallel-item {display: flex;flex-direction: column;position: relative;background-color: white;}#sk-9db0d5ff-16be-4fe1-8f81-c8ef47de0027 div.sk-parallel-item:first-child::after {align-self: flex-end;width: 50%;}#sk-9db0d5ff-16be-4fe1-8f81-c8ef47de0027 div.sk-parallel-item:last-child::after {align-self: flex-start;width: 50%;}#sk-9db0d5ff-16be-4fe1-8f81-c8ef47de0027 div.sk-parallel-item:only-child::after {width: 0;}#sk-9db0d5ff-16be-4fe1-8f81-c8ef47de0027 div.sk-dashed-wrapped {border: 1px dashed gray;margin: 0 0.4em 0.5em 0.4em;box-sizing: border-box;padding-bottom: 0.4em;background-color: white;position: relative;}#sk-9db0d5ff-16be-4fe1-8f81-c8ef47de0027 div.sk-label label {font-family: monospace;font-weight: bold;background-color: white;display: inline-block;line-height: 1.2em;}#sk-9db0d5ff-16be-4fe1-8f81-c8ef47de0027 div.sk-label-container {position: relative;z-index: 2;text-align: center;}#sk-9db0d5ff-16be-4fe1-8f81-c8ef47de0027 div.sk-container {/* jupyter's `normalize.less` sets `[hidden] { display: none; }` but bootstrap.min.css set `[hidden] { display: none !important; }` so we also need the `!important` here to be able to override the default hidden behavior on the sphinx rendered scikit-learn.org. See: https://github.com/scikit-learn/scikit-learn/issues/21755 */display: inline-block !important;position: relative;}#sk-9db0d5ff-16be-4fe1-8f81-c8ef47de0027 div.sk-text-repr-fallback {display: none;}</style><div id=\"sk-9db0d5ff-16be-4fe1-8f81-c8ef47de0027\" class=\"sk-top-container\"><div class=\"sk-text-repr-fallback\"><pre>ColumnTransformer(transformers=[(&#x27;num&#x27;,\n",
       "                                 Pipeline(steps=[(&#x27;selector&#x27;,\n",
       "                                                  DataFrameSelector(attribute_names=[&#x27;balance&#x27;,\n",
       "                                                                                     &#x27;campaign&#x27;,\n",
       "                                                                                     &#x27;day&#x27;,\n",
       "                                                                                     &#x27;duration&#x27;])),\n",
       "                                                 (&#x27;std_scaler&#x27;,\n",
       "                                                  StandardScaler())]),\n",
       "                                 [&#x27;balance&#x27;, &#x27;campaign&#x27;, &#x27;day&#x27;, &#x27;duration&#x27;]),\n",
       "                                (&#x27;cat&#x27;,\n",
       "                                 Pipeline(steps=[(&#x27;selector&#x27;,\n",
       "                                                  DataFrameSelector(attribute_names=[&#x27;job&#x27;,\n",
       "                                                                                     &#x27;marital&#x27;,\n",
       "                                                                                     &#x27;education&#x27;,\n",
       "                                                                                     &#x27;default&#x27;,\n",
       "                                                                                     &#x27;housing&#x27;,\n",
       "                                                                                     &#x27;loan&#x27;])),\n",
       "                                                 (&#x27;ca...coder&#x27;,\n",
       "                                                  OneHotEncoder(handle_unknown=&#x27;ignore&#x27;,\n",
       "                                                                sparse=False))]),\n",
       "                                 [&#x27;job&#x27;, &#x27;marital&#x27;, &#x27;education&#x27;, &#x27;default&#x27;,\n",
       "                                  &#x27;housing&#x27;, &#x27;loan&#x27;]),\n",
       "                                (&#x27;age&#x27;,\n",
       "                                 Pipeline(steps=[(&#x27;selector&#x27;,\n",
       "                                                  DataFrameSelector(attribute_names=[&#x27;age&#x27;])),\n",
       "                                                 (&#x27;age_quantile_transform&#x27;,\n",
       "                                                  KBinsDiscretizer(encode=&#x27;ordinal&#x27;,\n",
       "                                                                   n_bins=4)),\n",
       "                                                 (&#x27;cat_encoder&#x27;,\n",
       "                                                  OneHotEncoder(handle_unknown=&#x27;ignore&#x27;,\n",
       "                                                                sparse=False))]),\n",
       "                                 [&#x27;age&#x27;])])</pre><b>Please rerun this cell to show the HTML repr or trust the notebook.</b></div><div class=\"sk-container\" hidden><div class=\"sk-item sk-dashed-wrapped\"><div class=\"sk-label-container\"><div class=\"sk-label sk-toggleable\"><input class=\"sk-toggleable__control sk-hidden--visually\" id=\"3fd209b9-20c4-4c4a-8aa1-a36330ac728c\" type=\"checkbox\" ><label for=\"3fd209b9-20c4-4c4a-8aa1-a36330ac728c\" class=\"sk-toggleable__label sk-toggleable__label-arrow\">ColumnTransformer</label><div class=\"sk-toggleable__content\"><pre>ColumnTransformer(transformers=[(&#x27;num&#x27;,\n",
       "                                 Pipeline(steps=[(&#x27;selector&#x27;,\n",
       "                                                  DataFrameSelector(attribute_names=[&#x27;balance&#x27;,\n",
       "                                                                                     &#x27;campaign&#x27;,\n",
       "                                                                                     &#x27;day&#x27;,\n",
       "                                                                                     &#x27;duration&#x27;])),\n",
       "                                                 (&#x27;std_scaler&#x27;,\n",
       "                                                  StandardScaler())]),\n",
       "                                 [&#x27;balance&#x27;, &#x27;campaign&#x27;, &#x27;day&#x27;, &#x27;duration&#x27;]),\n",
       "                                (&#x27;cat&#x27;,\n",
       "                                 Pipeline(steps=[(&#x27;selector&#x27;,\n",
       "                                                  DataFrameSelector(attribute_names=[&#x27;job&#x27;,\n",
       "                                                                                     &#x27;marital&#x27;,\n",
       "                                                                                     &#x27;education&#x27;,\n",
       "                                                                                     &#x27;default&#x27;,\n",
       "                                                                                     &#x27;housing&#x27;,\n",
       "                                                                                     &#x27;loan&#x27;])),\n",
       "                                                 (&#x27;ca...coder&#x27;,\n",
       "                                                  OneHotEncoder(handle_unknown=&#x27;ignore&#x27;,\n",
       "                                                                sparse=False))]),\n",
       "                                 [&#x27;job&#x27;, &#x27;marital&#x27;, &#x27;education&#x27;, &#x27;default&#x27;,\n",
       "                                  &#x27;housing&#x27;, &#x27;loan&#x27;]),\n",
       "                                (&#x27;age&#x27;,\n",
       "                                 Pipeline(steps=[(&#x27;selector&#x27;,\n",
       "                                                  DataFrameSelector(attribute_names=[&#x27;age&#x27;])),\n",
       "                                                 (&#x27;age_quantile_transform&#x27;,\n",
       "                                                  KBinsDiscretizer(encode=&#x27;ordinal&#x27;,\n",
       "                                                                   n_bins=4)),\n",
       "                                                 (&#x27;cat_encoder&#x27;,\n",
       "                                                  OneHotEncoder(handle_unknown=&#x27;ignore&#x27;,\n",
       "                                                                sparse=False))]),\n",
       "                                 [&#x27;age&#x27;])])</pre></div></div></div><div class=\"sk-parallel\"><div class=\"sk-parallel-item\"><div class=\"sk-item\"><div class=\"sk-label-container\"><div class=\"sk-label sk-toggleable\"><input class=\"sk-toggleable__control sk-hidden--visually\" id=\"960ba777-71df-4d7f-9bd1-43dd1f187a69\" type=\"checkbox\" ><label for=\"960ba777-71df-4d7f-9bd1-43dd1f187a69\" class=\"sk-toggleable__label sk-toggleable__label-arrow\">num</label><div class=\"sk-toggleable__content\"><pre>[&#x27;balance&#x27;, &#x27;campaign&#x27;, &#x27;day&#x27;, &#x27;duration&#x27;]</pre></div></div></div><div class=\"sk-serial\"><div class=\"sk-item\"><div class=\"sk-serial\"><div class=\"sk-item\"><div class=\"sk-estimator sk-toggleable\"><input class=\"sk-toggleable__control sk-hidden--visually\" id=\"62e5b623-ea87-4c20-b8d0-7054204aff29\" type=\"checkbox\" ><label for=\"62e5b623-ea87-4c20-b8d0-7054204aff29\" class=\"sk-toggleable__label sk-toggleable__label-arrow\">DataFrameSelector</label><div class=\"sk-toggleable__content\"><pre>DataFrameSelector(attribute_names=[&#x27;balance&#x27;, &#x27;campaign&#x27;, &#x27;day&#x27;, &#x27;duration&#x27;])</pre></div></div></div><div class=\"sk-item\"><div class=\"sk-estimator sk-toggleable\"><input class=\"sk-toggleable__control sk-hidden--visually\" id=\"dfa8e162-a29a-482e-a6e4-731f744da243\" type=\"checkbox\" ><label for=\"dfa8e162-a29a-482e-a6e4-731f744da243\" class=\"sk-toggleable__label sk-toggleable__label-arrow\">StandardScaler</label><div class=\"sk-toggleable__content\"><pre>StandardScaler()</pre></div></div></div></div></div></div></div></div><div class=\"sk-parallel-item\"><div class=\"sk-item\"><div class=\"sk-label-container\"><div class=\"sk-label sk-toggleable\"><input class=\"sk-toggleable__control sk-hidden--visually\" id=\"866d8a15-de2b-4a97-a147-2576dedb628d\" type=\"checkbox\" ><label for=\"866d8a15-de2b-4a97-a147-2576dedb628d\" class=\"sk-toggleable__label sk-toggleable__label-arrow\">cat</label><div class=\"sk-toggleable__content\"><pre>[&#x27;job&#x27;, &#x27;marital&#x27;, &#x27;education&#x27;, &#x27;default&#x27;, &#x27;housing&#x27;, &#x27;loan&#x27;]</pre></div></div></div><div class=\"sk-serial\"><div class=\"sk-item\"><div class=\"sk-serial\"><div class=\"sk-item\"><div class=\"sk-estimator sk-toggleable\"><input class=\"sk-toggleable__control sk-hidden--visually\" id=\"f945cba5-08dd-4ea0-a71d-5c7304d05705\" type=\"checkbox\" ><label for=\"f945cba5-08dd-4ea0-a71d-5c7304d05705\" class=\"sk-toggleable__label sk-toggleable__label-arrow\">DataFrameSelector</label><div class=\"sk-toggleable__content\"><pre>DataFrameSelector(attribute_names=[&#x27;job&#x27;, &#x27;marital&#x27;, &#x27;education&#x27;, &#x27;default&#x27;,\n",
       "                                   &#x27;housing&#x27;, &#x27;loan&#x27;])</pre></div></div></div><div class=\"sk-item\"><div class=\"sk-estimator sk-toggleable\"><input class=\"sk-toggleable__control sk-hidden--visually\" id=\"d321ea09-487c-42f5-a2db-2917e77199eb\" type=\"checkbox\" ><label for=\"d321ea09-487c-42f5-a2db-2917e77199eb\" class=\"sk-toggleable__label sk-toggleable__label-arrow\">OneHotEncoder</label><div class=\"sk-toggleable__content\"><pre>OneHotEncoder(handle_unknown=&#x27;ignore&#x27;, sparse=False)</pre></div></div></div></div></div></div></div></div><div class=\"sk-parallel-item\"><div class=\"sk-item\"><div class=\"sk-label-container\"><div class=\"sk-label sk-toggleable\"><input class=\"sk-toggleable__control sk-hidden--visually\" id=\"8a8e4c1d-fc25-4e37-92d6-c96839d46372\" type=\"checkbox\" ><label for=\"8a8e4c1d-fc25-4e37-92d6-c96839d46372\" class=\"sk-toggleable__label sk-toggleable__label-arrow\">age</label><div class=\"sk-toggleable__content\"><pre>[&#x27;age&#x27;]</pre></div></div></div><div class=\"sk-serial\"><div class=\"sk-item\"><div class=\"sk-serial\"><div class=\"sk-item\"><div class=\"sk-estimator sk-toggleable\"><input class=\"sk-toggleable__control sk-hidden--visually\" id=\"6960b8cd-6413-417e-9457-3d8bef47fa5b\" type=\"checkbox\" ><label for=\"6960b8cd-6413-417e-9457-3d8bef47fa5b\" class=\"sk-toggleable__label sk-toggleable__label-arrow\">DataFrameSelector</label><div class=\"sk-toggleable__content\"><pre>DataFrameSelector(attribute_names=[&#x27;age&#x27;])</pre></div></div></div><div class=\"sk-item\"><div class=\"sk-estimator sk-toggleable\"><input class=\"sk-toggleable__control sk-hidden--visually\" id=\"f383b9f3-0a91-4783-b7b4-8806f304e2af\" type=\"checkbox\" ><label for=\"f383b9f3-0a91-4783-b7b4-8806f304e2af\" class=\"sk-toggleable__label sk-toggleable__label-arrow\">KBinsDiscretizer</label><div class=\"sk-toggleable__content\"><pre>KBinsDiscretizer(encode=&#x27;ordinal&#x27;, n_bins=4)</pre></div></div></div><div class=\"sk-item\"><div class=\"sk-estimator sk-toggleable\"><input class=\"sk-toggleable__control sk-hidden--visually\" id=\"89c81e8e-6034-456b-9c28-1710e1a670f6\" type=\"checkbox\" ><label for=\"89c81e8e-6034-456b-9c28-1710e1a670f6\" class=\"sk-toggleable__label sk-toggleable__label-arrow\">OneHotEncoder</label><div class=\"sk-toggleable__content\"><pre>OneHotEncoder(handle_unknown=&#x27;ignore&#x27;, sparse=False)</pre></div></div></div></div></div></div></div></div></div></div></div></div>"
      ],
      "text/plain": [
       "ColumnTransformer(transformers=[('num',\n",
       "                                 Pipeline(steps=[('selector',\n",
       "                                                  DataFrameSelector(attribute_names=['balance',\n",
       "                                                                                     'campaign',\n",
       "                                                                                     'day',\n",
       "                                                                                     'duration'])),\n",
       "                                                 ('std_scaler',\n",
       "                                                  StandardScaler())]),\n",
       "                                 ['balance', 'campaign', 'day', 'duration']),\n",
       "                                ('cat',\n",
       "                                 Pipeline(steps=[('selector',\n",
       "                                                  DataFrameSelector(attribute_names=['job',\n",
       "                                                                                     'marital',\n",
       "                                                                                     'education',\n",
       "                                                                                     'default',\n",
       "                                                                                     'housing',\n",
       "                                                                                     'loan'])),\n",
       "                                                 ('ca...coder',\n",
       "                                                  OneHotEncoder(handle_unknown='ignore',\n",
       "                                                                sparse=False))]),\n",
       "                                 ['job', 'marital', 'education', 'default',\n",
       "                                  'housing', 'loan']),\n",
       "                                ('age',\n",
       "                                 Pipeline(steps=[('selector',\n",
       "                                                  DataFrameSelector(attribute_names=['age'])),\n",
       "                                                 ('age_quantile_transform',\n",
       "                                                  KBinsDiscretizer(encode='ordinal',\n",
       "                                                                   n_bins=4)),\n",
       "                                                 ('cat_encoder',\n",
       "                                                  OneHotEncoder(handle_unknown='ignore',\n",
       "                                                                sparse=False))]),\n",
       "                                 ['age'])])"
      ]
     },
     "execution_count": 37,
     "metadata": {},
     "output_type": "execute_result"
    }
   ],
   "source": [
    "preprocessing2"
   ]
  },
  {
   "cell_type": "code",
   "execution_count": 38,
   "metadata": {},
   "outputs": [
    {
     "name": "stdout",
     "output_type": "stream",
     "text": [
      "Best hyperparameter alpha: {'C': 0.1}\n",
      "Mean cross-validated score of the best estimator: 0.5955192189547527\n",
      "\n",
      "Coefficients\n",
      "[[ 0.02060661 -0.23432841  0.          0.965484    0.         -0.340325\n",
      "   0.          0.          0.          0.20871636  0.          0.\n",
      "   0.          0.          0.          0.          0.         -0.20962352\n",
      "   0.          0.         -0.0162182   0.17158427  0.         -0.34468764\n",
      "   0.          0.         -0.74461899  0.         -0.51525403  0.\n",
      "   0.         -0.10028963  0.        ]]\n"
     ]
    }
   ],
   "source": [
    "# split data into training and testing data sets\n",
    "X_train, X_test, y_train, y_test = train_test_split(X_processed2, y, test_size = 0.2, random_state=seed)\n",
    "\n",
    "# instantiate the model\n",
    "l1_reg = LogisticRegression(penalty='l1', random_state=seed, solver='liblinear')\n",
    "\n",
    "# Use the GridSearchCV object with cross_val_score to perform cross-validation and hyperparameter tuning\n",
    "params = {'C': [0.001, 0.01, 0.1, 1]}\n",
    "grid_search = GridSearchCV(l1_reg, params, cv=5, scoring=\"precision\", refit=True).fit(X_train, y_train)\n",
    "\n",
    "# display best hyperparameters and average score on the test set\n",
    "print(\"Best hyperparameter alpha:\", grid_search.best_params_)\n",
    "print(\"Mean cross-validated score of the best estimator:\", grid_search.best_score_)\n",
    "\n",
    "print(\"\\n\"+\"Coefficients\")\n",
    "print(grid_search.best_estimator_.coef_)"
   ]
  },
  {
   "attachments": {},
   "cell_type": "markdown",
   "metadata": {},
   "source": [
    "<span style=\"color:orange\">**Scoring the model**</span>\n",
    "The current practice of many data teams is to build such propensity models and predict customer's probability to adopt the product and target them from the highest probability to the lowest probability.\n",
    "\n",
    "It is likely that the data team is interested in maximizing **precision** (out of the customers predicted to adopt, how many actually adopt) as targeting customers with a high probability of adopting the product is to be costly, and they want to minimize the number of customers who are targeted but do not end up adopting the product.\n",
    "\n",
    "<span style=\"color:orange\">**Report the average score with the best hyperparameter.**</span>\n",
    "\n",
    "The best hyperparameter was 0.1\n",
    "The best score (precision) was 0.6"
   ]
  },
  {
   "cell_type": "code",
   "execution_count": 39,
   "metadata": {},
   "outputs": [
    {
     "data": {
      "text/plain": [
       "array(['balance', 'campaign', 'day', 'duration', 'job_admin.',\n",
       "       'job_blue-collar', 'job_entrepreneur', 'job_housemaid',\n",
       "       'job_management', 'job_retired', 'job_self-employed',\n",
       "       'job_services', 'job_student', 'job_technician', 'job_unemployed',\n",
       "       'job_unknown', 'marital_divorced', 'marital_married',\n",
       "       'marital_single', 'education_primary', 'education_secondary',\n",
       "       'education_tertiary', 'education_unknown', 'default_no',\n",
       "       'default_yes', 'housing_no', 'housing_yes', 'loan_no', 'loan_yes',\n",
       "       'age_0.0', 'age_1.0', 'age_2.0', 'age_3.0'], dtype=object)"
      ]
     },
     "execution_count": 39,
     "metadata": {},
     "output_type": "execute_result"
    }
   ],
   "source": [
    "# get feature names for numerical attributes\n",
    "num_features = np.array(num_attribs2)\n",
    "\n",
    "# get feature names for categorical attributes\n",
    "cat_encoder = preprocessing2.named_transformers_['cat'].named_steps['cat_encoder']\n",
    "cat_features = cat_encoder.get_feature_names(cat_attribs2)\n",
    "\n",
    "# get feature names for age attribute\n",
    "age_encoder = preprocessing2.named_transformers_['age'].named_steps['cat_encoder']\n",
    "age_features = age_encoder.get_feature_names(age_attribs2)\n",
    "\n",
    "# concatenate all feature names\n",
    "feature_names = np.concatenate((num_features, cat_features, age_features), axis=0)\n",
    "feature_names"
   ]
  },
  {
   "attachments": {},
   "cell_type": "markdown",
   "metadata": {},
   "source": [
    "<span style=\"color:orange\">**Finding the top 5 features**</span>\n",
    "\n",
    "The larger the magnitude of the coefficient (whether positive or negative), the more important the corresponding feature is for predicting the target variable."
   ]
  },
  {
   "cell_type": "code",
   "execution_count": 40,
   "metadata": {},
   "outputs": [
    {
     "data": {
      "text/html": [
       "<div>\n",
       "<style scoped>\n",
       "    .dataframe tbody tr th:only-of-type {\n",
       "        vertical-align: middle;\n",
       "    }\n",
       "\n",
       "    .dataframe tbody tr th {\n",
       "        vertical-align: top;\n",
       "    }\n",
       "\n",
       "    .dataframe thead th {\n",
       "        text-align: right;\n",
       "    }\n",
       "</style>\n",
       "<table border=\"1\" class=\"dataframe\">\n",
       "  <thead>\n",
       "    <tr style=\"text-align: right;\">\n",
       "      <th></th>\n",
       "      <th>feature</th>\n",
       "      <th>coef</th>\n",
       "      <th>coef_abs</th>\n",
       "    </tr>\n",
       "  </thead>\n",
       "  <tbody>\n",
       "    <tr>\n",
       "      <th>3</th>\n",
       "      <td>duration</td>\n",
       "      <td>0.965484</td>\n",
       "      <td>0.965484</td>\n",
       "    </tr>\n",
       "    <tr>\n",
       "      <th>26</th>\n",
       "      <td>housing_yes</td>\n",
       "      <td>-0.744619</td>\n",
       "      <td>0.744619</td>\n",
       "    </tr>\n",
       "    <tr>\n",
       "      <th>28</th>\n",
       "      <td>loan_yes</td>\n",
       "      <td>-0.515254</td>\n",
       "      <td>0.515254</td>\n",
       "    </tr>\n",
       "    <tr>\n",
       "      <th>23</th>\n",
       "      <td>default_no</td>\n",
       "      <td>-0.344688</td>\n",
       "      <td>0.344688</td>\n",
       "    </tr>\n",
       "    <tr>\n",
       "      <th>5</th>\n",
       "      <td>job_blue-collar</td>\n",
       "      <td>-0.340325</td>\n",
       "      <td>0.340325</td>\n",
       "    </tr>\n",
       "    <tr>\n",
       "      <th>1</th>\n",
       "      <td>campaign</td>\n",
       "      <td>-0.234328</td>\n",
       "      <td>0.234328</td>\n",
       "    </tr>\n",
       "    <tr>\n",
       "      <th>17</th>\n",
       "      <td>marital_married</td>\n",
       "      <td>-0.209624</td>\n",
       "      <td>0.209624</td>\n",
       "    </tr>\n",
       "    <tr>\n",
       "      <th>9</th>\n",
       "      <td>job_retired</td>\n",
       "      <td>0.208716</td>\n",
       "      <td>0.208716</td>\n",
       "    </tr>\n",
       "    <tr>\n",
       "      <th>21</th>\n",
       "      <td>education_tertiary</td>\n",
       "      <td>0.171584</td>\n",
       "      <td>0.171584</td>\n",
       "    </tr>\n",
       "    <tr>\n",
       "      <th>31</th>\n",
       "      <td>age_2.0</td>\n",
       "      <td>-0.100290</td>\n",
       "      <td>0.100290</td>\n",
       "    </tr>\n",
       "    <tr>\n",
       "      <th>0</th>\n",
       "      <td>balance</td>\n",
       "      <td>0.020607</td>\n",
       "      <td>0.020607</td>\n",
       "    </tr>\n",
       "    <tr>\n",
       "      <th>20</th>\n",
       "      <td>education_secondary</td>\n",
       "      <td>-0.016218</td>\n",
       "      <td>0.016218</td>\n",
       "    </tr>\n",
       "    <tr>\n",
       "      <th>25</th>\n",
       "      <td>housing_no</td>\n",
       "      <td>0.000000</td>\n",
       "      <td>0.000000</td>\n",
       "    </tr>\n",
       "    <tr>\n",
       "      <th>24</th>\n",
       "      <td>default_yes</td>\n",
       "      <td>0.000000</td>\n",
       "      <td>0.000000</td>\n",
       "    </tr>\n",
       "    <tr>\n",
       "      <th>19</th>\n",
       "      <td>education_primary</td>\n",
       "      <td>0.000000</td>\n",
       "      <td>0.000000</td>\n",
       "    </tr>\n",
       "    <tr>\n",
       "      <th>22</th>\n",
       "      <td>education_unknown</td>\n",
       "      <td>0.000000</td>\n",
       "      <td>0.000000</td>\n",
       "    </tr>\n",
       "    <tr>\n",
       "      <th>27</th>\n",
       "      <td>loan_no</td>\n",
       "      <td>0.000000</td>\n",
       "      <td>0.000000</td>\n",
       "    </tr>\n",
       "    <tr>\n",
       "      <th>29</th>\n",
       "      <td>age_0.0</td>\n",
       "      <td>0.000000</td>\n",
       "      <td>0.000000</td>\n",
       "    </tr>\n",
       "    <tr>\n",
       "      <th>30</th>\n",
       "      <td>age_1.0</td>\n",
       "      <td>0.000000</td>\n",
       "      <td>0.000000</td>\n",
       "    </tr>\n",
       "    <tr>\n",
       "      <th>16</th>\n",
       "      <td>marital_divorced</td>\n",
       "      <td>0.000000</td>\n",
       "      <td>0.000000</td>\n",
       "    </tr>\n",
       "    <tr>\n",
       "      <th>18</th>\n",
       "      <td>marital_single</td>\n",
       "      <td>0.000000</td>\n",
       "      <td>0.000000</td>\n",
       "    </tr>\n",
       "    <tr>\n",
       "      <th>15</th>\n",
       "      <td>job_unknown</td>\n",
       "      <td>0.000000</td>\n",
       "      <td>0.000000</td>\n",
       "    </tr>\n",
       "    <tr>\n",
       "      <th>14</th>\n",
       "      <td>job_unemployed</td>\n",
       "      <td>0.000000</td>\n",
       "      <td>0.000000</td>\n",
       "    </tr>\n",
       "    <tr>\n",
       "      <th>13</th>\n",
       "      <td>job_technician</td>\n",
       "      <td>0.000000</td>\n",
       "      <td>0.000000</td>\n",
       "    </tr>\n",
       "    <tr>\n",
       "      <th>12</th>\n",
       "      <td>job_student</td>\n",
       "      <td>0.000000</td>\n",
       "      <td>0.000000</td>\n",
       "    </tr>\n",
       "    <tr>\n",
       "      <th>11</th>\n",
       "      <td>job_services</td>\n",
       "      <td>0.000000</td>\n",
       "      <td>0.000000</td>\n",
       "    </tr>\n",
       "    <tr>\n",
       "      <th>10</th>\n",
       "      <td>job_self-employed</td>\n",
       "      <td>0.000000</td>\n",
       "      <td>0.000000</td>\n",
       "    </tr>\n",
       "    <tr>\n",
       "      <th>8</th>\n",
       "      <td>job_management</td>\n",
       "      <td>0.000000</td>\n",
       "      <td>0.000000</td>\n",
       "    </tr>\n",
       "    <tr>\n",
       "      <th>7</th>\n",
       "      <td>job_housemaid</td>\n",
       "      <td>0.000000</td>\n",
       "      <td>0.000000</td>\n",
       "    </tr>\n",
       "    <tr>\n",
       "      <th>6</th>\n",
       "      <td>job_entrepreneur</td>\n",
       "      <td>0.000000</td>\n",
       "      <td>0.000000</td>\n",
       "    </tr>\n",
       "    <tr>\n",
       "      <th>4</th>\n",
       "      <td>job_admin.</td>\n",
       "      <td>0.000000</td>\n",
       "      <td>0.000000</td>\n",
       "    </tr>\n",
       "    <tr>\n",
       "      <th>2</th>\n",
       "      <td>day</td>\n",
       "      <td>0.000000</td>\n",
       "      <td>0.000000</td>\n",
       "    </tr>\n",
       "    <tr>\n",
       "      <th>32</th>\n",
       "      <td>age_3.0</td>\n",
       "      <td>0.000000</td>\n",
       "      <td>0.000000</td>\n",
       "    </tr>\n",
       "  </tbody>\n",
       "</table>\n",
       "</div>"
      ],
      "text/plain": [
       "                feature      coef  coef_abs\n",
       "3              duration  0.965484  0.965484\n",
       "26          housing_yes -0.744619  0.744619\n",
       "28             loan_yes -0.515254  0.515254\n",
       "23           default_no -0.344688  0.344688\n",
       "5       job_blue-collar -0.340325  0.340325\n",
       "1              campaign -0.234328  0.234328\n",
       "17      marital_married -0.209624  0.209624\n",
       "9           job_retired  0.208716  0.208716\n",
       "21   education_tertiary  0.171584  0.171584\n",
       "31              age_2.0 -0.100290  0.100290\n",
       "0               balance  0.020607  0.020607\n",
       "20  education_secondary -0.016218  0.016218\n",
       "25           housing_no  0.000000  0.000000\n",
       "24          default_yes  0.000000  0.000000\n",
       "19    education_primary  0.000000  0.000000\n",
       "22    education_unknown  0.000000  0.000000\n",
       "27              loan_no  0.000000  0.000000\n",
       "29              age_0.0  0.000000  0.000000\n",
       "30              age_1.0  0.000000  0.000000\n",
       "16     marital_divorced  0.000000  0.000000\n",
       "18       marital_single  0.000000  0.000000\n",
       "15          job_unknown  0.000000  0.000000\n",
       "14       job_unemployed  0.000000  0.000000\n",
       "13       job_technician  0.000000  0.000000\n",
       "12          job_student  0.000000  0.000000\n",
       "11         job_services  0.000000  0.000000\n",
       "10    job_self-employed  0.000000  0.000000\n",
       "8        job_management  0.000000  0.000000\n",
       "7         job_housemaid  0.000000  0.000000\n",
       "6      job_entrepreneur  0.000000  0.000000\n",
       "4            job_admin.  0.000000  0.000000\n",
       "2                   day  0.000000  0.000000\n",
       "32              age_3.0  0.000000  0.000000"
      ]
     },
     "execution_count": 40,
     "metadata": {},
     "output_type": "execute_result"
    }
   ],
   "source": [
    "coef = grid_search.best_estimator_.coef_[0]\n",
    "coef_df = pd.DataFrame({'feature': feature_names, 'coef': coef, 'coef_abs': np.abs(coef) })\n",
    "coef_df_sorted = coef_df.sort_values('coef_abs', ascending=False)\n",
    "\n",
    "coef_df_sorted"
   ]
  },
  {
   "attachments": {},
   "cell_type": "markdown",
   "metadata": {},
   "source": [
    "The top 5 features"
   ]
  },
  {
   "cell_type": "code",
   "execution_count": 41,
   "metadata": {},
   "outputs": [
    {
     "data": {
      "text/html": [
       "<div>\n",
       "<style scoped>\n",
       "    .dataframe tbody tr th:only-of-type {\n",
       "        vertical-align: middle;\n",
       "    }\n",
       "\n",
       "    .dataframe tbody tr th {\n",
       "        vertical-align: top;\n",
       "    }\n",
       "\n",
       "    .dataframe thead th {\n",
       "        text-align: right;\n",
       "    }\n",
       "</style>\n",
       "<table border=\"1\" class=\"dataframe\">\n",
       "  <thead>\n",
       "    <tr style=\"text-align: right;\">\n",
       "      <th></th>\n",
       "      <th>feature</th>\n",
       "      <th>coef</th>\n",
       "      <th>coef_abs</th>\n",
       "    </tr>\n",
       "  </thead>\n",
       "  <tbody>\n",
       "    <tr>\n",
       "      <th>3</th>\n",
       "      <td>duration</td>\n",
       "      <td>0.965484</td>\n",
       "      <td>0.965484</td>\n",
       "    </tr>\n",
       "    <tr>\n",
       "      <th>26</th>\n",
       "      <td>housing_yes</td>\n",
       "      <td>-0.744619</td>\n",
       "      <td>0.744619</td>\n",
       "    </tr>\n",
       "    <tr>\n",
       "      <th>28</th>\n",
       "      <td>loan_yes</td>\n",
       "      <td>-0.515254</td>\n",
       "      <td>0.515254</td>\n",
       "    </tr>\n",
       "    <tr>\n",
       "      <th>23</th>\n",
       "      <td>default_no</td>\n",
       "      <td>-0.344688</td>\n",
       "      <td>0.344688</td>\n",
       "    </tr>\n",
       "    <tr>\n",
       "      <th>5</th>\n",
       "      <td>job_blue-collar</td>\n",
       "      <td>-0.340325</td>\n",
       "      <td>0.340325</td>\n",
       "    </tr>\n",
       "  </tbody>\n",
       "</table>\n",
       "</div>"
      ],
      "text/plain": [
       "            feature      coef  coef_abs\n",
       "3          duration  0.965484  0.965484\n",
       "26      housing_yes -0.744619  0.744619\n",
       "28         loan_yes -0.515254  0.515254\n",
       "23       default_no -0.344688  0.344688\n",
       "5   job_blue-collar -0.340325  0.340325"
      ]
     },
     "execution_count": 41,
     "metadata": {},
     "output_type": "execute_result"
    }
   ],
   "source": [
    "coef_df_sorted.head(5)"
   ]
  },
  {
   "attachments": {},
   "cell_type": "markdown",
   "metadata": {},
   "source": [
    "<span style=\"color:orange\">**Not all features are useful**</span>\n",
    "Some features were removed by l1"
   ]
  },
  {
   "cell_type": "code",
   "execution_count": 42,
   "metadata": {},
   "outputs": [
    {
     "data": {
      "text/html": [
       "<div>\n",
       "<style scoped>\n",
       "    .dataframe tbody tr th:only-of-type {\n",
       "        vertical-align: middle;\n",
       "    }\n",
       "\n",
       "    .dataframe tbody tr th {\n",
       "        vertical-align: top;\n",
       "    }\n",
       "\n",
       "    .dataframe thead th {\n",
       "        text-align: right;\n",
       "    }\n",
       "</style>\n",
       "<table border=\"1\" class=\"dataframe\">\n",
       "  <thead>\n",
       "    <tr style=\"text-align: right;\">\n",
       "      <th></th>\n",
       "      <th>feature</th>\n",
       "      <th>coef</th>\n",
       "      <th>coef_abs</th>\n",
       "    </tr>\n",
       "  </thead>\n",
       "  <tbody>\n",
       "    <tr>\n",
       "      <th>25</th>\n",
       "      <td>housing_no</td>\n",
       "      <td>0.0</td>\n",
       "      <td>0.0</td>\n",
       "    </tr>\n",
       "    <tr>\n",
       "      <th>24</th>\n",
       "      <td>default_yes</td>\n",
       "      <td>0.0</td>\n",
       "      <td>0.0</td>\n",
       "    </tr>\n",
       "    <tr>\n",
       "      <th>19</th>\n",
       "      <td>education_primary</td>\n",
       "      <td>0.0</td>\n",
       "      <td>0.0</td>\n",
       "    </tr>\n",
       "    <tr>\n",
       "      <th>22</th>\n",
       "      <td>education_unknown</td>\n",
       "      <td>0.0</td>\n",
       "      <td>0.0</td>\n",
       "    </tr>\n",
       "    <tr>\n",
       "      <th>27</th>\n",
       "      <td>loan_no</td>\n",
       "      <td>0.0</td>\n",
       "      <td>0.0</td>\n",
       "    </tr>\n",
       "    <tr>\n",
       "      <th>29</th>\n",
       "      <td>age_0.0</td>\n",
       "      <td>0.0</td>\n",
       "      <td>0.0</td>\n",
       "    </tr>\n",
       "    <tr>\n",
       "      <th>30</th>\n",
       "      <td>age_1.0</td>\n",
       "      <td>0.0</td>\n",
       "      <td>0.0</td>\n",
       "    </tr>\n",
       "    <tr>\n",
       "      <th>16</th>\n",
       "      <td>marital_divorced</td>\n",
       "      <td>0.0</td>\n",
       "      <td>0.0</td>\n",
       "    </tr>\n",
       "    <tr>\n",
       "      <th>18</th>\n",
       "      <td>marital_single</td>\n",
       "      <td>0.0</td>\n",
       "      <td>0.0</td>\n",
       "    </tr>\n",
       "    <tr>\n",
       "      <th>15</th>\n",
       "      <td>job_unknown</td>\n",
       "      <td>0.0</td>\n",
       "      <td>0.0</td>\n",
       "    </tr>\n",
       "    <tr>\n",
       "      <th>14</th>\n",
       "      <td>job_unemployed</td>\n",
       "      <td>0.0</td>\n",
       "      <td>0.0</td>\n",
       "    </tr>\n",
       "    <tr>\n",
       "      <th>13</th>\n",
       "      <td>job_technician</td>\n",
       "      <td>0.0</td>\n",
       "      <td>0.0</td>\n",
       "    </tr>\n",
       "    <tr>\n",
       "      <th>12</th>\n",
       "      <td>job_student</td>\n",
       "      <td>0.0</td>\n",
       "      <td>0.0</td>\n",
       "    </tr>\n",
       "    <tr>\n",
       "      <th>11</th>\n",
       "      <td>job_services</td>\n",
       "      <td>0.0</td>\n",
       "      <td>0.0</td>\n",
       "    </tr>\n",
       "    <tr>\n",
       "      <th>10</th>\n",
       "      <td>job_self-employed</td>\n",
       "      <td>0.0</td>\n",
       "      <td>0.0</td>\n",
       "    </tr>\n",
       "    <tr>\n",
       "      <th>8</th>\n",
       "      <td>job_management</td>\n",
       "      <td>0.0</td>\n",
       "      <td>0.0</td>\n",
       "    </tr>\n",
       "    <tr>\n",
       "      <th>7</th>\n",
       "      <td>job_housemaid</td>\n",
       "      <td>0.0</td>\n",
       "      <td>0.0</td>\n",
       "    </tr>\n",
       "    <tr>\n",
       "      <th>6</th>\n",
       "      <td>job_entrepreneur</td>\n",
       "      <td>0.0</td>\n",
       "      <td>0.0</td>\n",
       "    </tr>\n",
       "    <tr>\n",
       "      <th>4</th>\n",
       "      <td>job_admin.</td>\n",
       "      <td>0.0</td>\n",
       "      <td>0.0</td>\n",
       "    </tr>\n",
       "    <tr>\n",
       "      <th>2</th>\n",
       "      <td>day</td>\n",
       "      <td>0.0</td>\n",
       "      <td>0.0</td>\n",
       "    </tr>\n",
       "    <tr>\n",
       "      <th>32</th>\n",
       "      <td>age_3.0</td>\n",
       "      <td>0.0</td>\n",
       "      <td>0.0</td>\n",
       "    </tr>\n",
       "  </tbody>\n",
       "</table>\n",
       "</div>"
      ],
      "text/plain": [
       "              feature  coef  coef_abs\n",
       "25         housing_no   0.0       0.0\n",
       "24        default_yes   0.0       0.0\n",
       "19  education_primary   0.0       0.0\n",
       "22  education_unknown   0.0       0.0\n",
       "27            loan_no   0.0       0.0\n",
       "29            age_0.0   0.0       0.0\n",
       "30            age_1.0   0.0       0.0\n",
       "16   marital_divorced   0.0       0.0\n",
       "18     marital_single   0.0       0.0\n",
       "15        job_unknown   0.0       0.0\n",
       "14     job_unemployed   0.0       0.0\n",
       "13     job_technician   0.0       0.0\n",
       "12        job_student   0.0       0.0\n",
       "11       job_services   0.0       0.0\n",
       "10  job_self-employed   0.0       0.0\n",
       "8      job_management   0.0       0.0\n",
       "7       job_housemaid   0.0       0.0\n",
       "6    job_entrepreneur   0.0       0.0\n",
       "4          job_admin.   0.0       0.0\n",
       "2                 day   0.0       0.0\n",
       "32            age_3.0   0.0       0.0"
      ]
     },
     "execution_count": 42,
     "metadata": {},
     "output_type": "execute_result"
    }
   ],
   "source": [
    "coef_df_sorted[coef_df_sorted[\"coef\"] == 0]"
   ]
  },
  {
   "attachments": {},
   "cell_type": "markdown",
   "metadata": {},
   "source": [
    "<span style=\"color:orange\">**The model performance did improve**</span>"
   ]
  },
  {
   "cell_type": "code",
   "execution_count": 43,
   "metadata": {},
   "outputs": [
    {
     "name": "stdout",
     "output_type": "stream",
     "text": [
      "Precision of previous model: 0.0\n"
     ]
    }
   ],
   "source": [
    "print(\"Precision of previous model:\", cv_scores['test_precision'].mean())"
   ]
  },
  {
   "cell_type": "code",
   "execution_count": 44,
   "metadata": {},
   "outputs": [
    {
     "name": "stdout",
     "output_type": "stream",
     "text": [
      "Precision of current model: 0.5955192189547527\n"
     ]
    }
   ],
   "source": [
    "print(\"Precision of current model:\", grid_search.best_score_)"
   ]
  },
  {
   "attachments": {},
   "cell_type": "markdown",
   "metadata": {},
   "source": [
    "### Question 3.3 (10 points)\n",
    "\n",
    "Now use the best model found in the cross-validation to predict the test set, show the obtained confusion matrix. Assume that targeting each customer would cost 10 euros and if the customer subscribe, the company would earn 50 euros. If we perform targeted telemarketing to all customers that are predicted to subscribe in the test set, what's the resulting profit?"
   ]
  },
  {
   "cell_type": "code",
   "execution_count": 45,
   "metadata": {},
   "outputs": [
    {
     "data": {
      "text/html": [
       "<style>#sk-63dad6b6-3761-4219-81e5-2de14bfcbc25 {color: black;background-color: white;}#sk-63dad6b6-3761-4219-81e5-2de14bfcbc25 pre{padding: 0;}#sk-63dad6b6-3761-4219-81e5-2de14bfcbc25 div.sk-toggleable {background-color: white;}#sk-63dad6b6-3761-4219-81e5-2de14bfcbc25 label.sk-toggleable__label {cursor: pointer;display: block;width: 100%;margin-bottom: 0;padding: 0.3em;box-sizing: border-box;text-align: center;}#sk-63dad6b6-3761-4219-81e5-2de14bfcbc25 label.sk-toggleable__label-arrow:before {content: \"▸\";float: left;margin-right: 0.25em;color: #696969;}#sk-63dad6b6-3761-4219-81e5-2de14bfcbc25 label.sk-toggleable__label-arrow:hover:before {color: black;}#sk-63dad6b6-3761-4219-81e5-2de14bfcbc25 div.sk-estimator:hover label.sk-toggleable__label-arrow:before {color: black;}#sk-63dad6b6-3761-4219-81e5-2de14bfcbc25 div.sk-toggleable__content {max-height: 0;max-width: 0;overflow: hidden;text-align: left;background-color: #f0f8ff;}#sk-63dad6b6-3761-4219-81e5-2de14bfcbc25 div.sk-toggleable__content pre {margin: 0.2em;color: black;border-radius: 0.25em;background-color: #f0f8ff;}#sk-63dad6b6-3761-4219-81e5-2de14bfcbc25 input.sk-toggleable__control:checked~div.sk-toggleable__content {max-height: 200px;max-width: 100%;overflow: auto;}#sk-63dad6b6-3761-4219-81e5-2de14bfcbc25 input.sk-toggleable__control:checked~label.sk-toggleable__label-arrow:before {content: \"▾\";}#sk-63dad6b6-3761-4219-81e5-2de14bfcbc25 div.sk-estimator input.sk-toggleable__control:checked~label.sk-toggleable__label {background-color: #d4ebff;}#sk-63dad6b6-3761-4219-81e5-2de14bfcbc25 div.sk-label input.sk-toggleable__control:checked~label.sk-toggleable__label {background-color: #d4ebff;}#sk-63dad6b6-3761-4219-81e5-2de14bfcbc25 input.sk-hidden--visually {border: 0;clip: rect(1px 1px 1px 1px);clip: rect(1px, 1px, 1px, 1px);height: 1px;margin: -1px;overflow: hidden;padding: 0;position: absolute;width: 1px;}#sk-63dad6b6-3761-4219-81e5-2de14bfcbc25 div.sk-estimator {font-family: monospace;background-color: #f0f8ff;border: 1px dotted black;border-radius: 0.25em;box-sizing: border-box;margin-bottom: 0.5em;}#sk-63dad6b6-3761-4219-81e5-2de14bfcbc25 div.sk-estimator:hover {background-color: #d4ebff;}#sk-63dad6b6-3761-4219-81e5-2de14bfcbc25 div.sk-parallel-item::after {content: \"\";width: 100%;border-bottom: 1px solid gray;flex-grow: 1;}#sk-63dad6b6-3761-4219-81e5-2de14bfcbc25 div.sk-label:hover label.sk-toggleable__label {background-color: #d4ebff;}#sk-63dad6b6-3761-4219-81e5-2de14bfcbc25 div.sk-serial::before {content: \"\";position: absolute;border-left: 1px solid gray;box-sizing: border-box;top: 2em;bottom: 0;left: 50%;}#sk-63dad6b6-3761-4219-81e5-2de14bfcbc25 div.sk-serial {display: flex;flex-direction: column;align-items: center;background-color: white;padding-right: 0.2em;padding-left: 0.2em;}#sk-63dad6b6-3761-4219-81e5-2de14bfcbc25 div.sk-item {z-index: 1;}#sk-63dad6b6-3761-4219-81e5-2de14bfcbc25 div.sk-parallel {display: flex;align-items: stretch;justify-content: center;background-color: white;}#sk-63dad6b6-3761-4219-81e5-2de14bfcbc25 div.sk-parallel::before {content: \"\";position: absolute;border-left: 1px solid gray;box-sizing: border-box;top: 2em;bottom: 0;left: 50%;}#sk-63dad6b6-3761-4219-81e5-2de14bfcbc25 div.sk-parallel-item {display: flex;flex-direction: column;position: relative;background-color: white;}#sk-63dad6b6-3761-4219-81e5-2de14bfcbc25 div.sk-parallel-item:first-child::after {align-self: flex-end;width: 50%;}#sk-63dad6b6-3761-4219-81e5-2de14bfcbc25 div.sk-parallel-item:last-child::after {align-self: flex-start;width: 50%;}#sk-63dad6b6-3761-4219-81e5-2de14bfcbc25 div.sk-parallel-item:only-child::after {width: 0;}#sk-63dad6b6-3761-4219-81e5-2de14bfcbc25 div.sk-dashed-wrapped {border: 1px dashed gray;margin: 0 0.4em 0.5em 0.4em;box-sizing: border-box;padding-bottom: 0.4em;background-color: white;position: relative;}#sk-63dad6b6-3761-4219-81e5-2de14bfcbc25 div.sk-label label {font-family: monospace;font-weight: bold;background-color: white;display: inline-block;line-height: 1.2em;}#sk-63dad6b6-3761-4219-81e5-2de14bfcbc25 div.sk-label-container {position: relative;z-index: 2;text-align: center;}#sk-63dad6b6-3761-4219-81e5-2de14bfcbc25 div.sk-container {/* jupyter's `normalize.less` sets `[hidden] { display: none; }` but bootstrap.min.css set `[hidden] { display: none !important; }` so we also need the `!important` here to be able to override the default hidden behavior on the sphinx rendered scikit-learn.org. See: https://github.com/scikit-learn/scikit-learn/issues/21755 */display: inline-block !important;position: relative;}#sk-63dad6b6-3761-4219-81e5-2de14bfcbc25 div.sk-text-repr-fallback {display: none;}</style><div id=\"sk-63dad6b6-3761-4219-81e5-2de14bfcbc25\" class=\"sk-top-container\"><div class=\"sk-text-repr-fallback\"><pre>LogisticRegression(C=0.1, penalty=&#x27;l1&#x27;, random_state=42, solver=&#x27;liblinear&#x27;)</pre><b>Please rerun this cell to show the HTML repr or trust the notebook.</b></div><div class=\"sk-container\" hidden><div class=\"sk-item\"><div class=\"sk-estimator sk-toggleable\"><input class=\"sk-toggleable__control sk-hidden--visually\" id=\"f135d02a-e010-4b0e-aac3-2cd79301cc47\" type=\"checkbox\" checked><label for=\"f135d02a-e010-4b0e-aac3-2cd79301cc47\" class=\"sk-toggleable__label sk-toggleable__label-arrow\">LogisticRegression</label><div class=\"sk-toggleable__content\"><pre>LogisticRegression(C=0.1, penalty=&#x27;l1&#x27;, random_state=42, solver=&#x27;liblinear&#x27;)</pre></div></div></div></div></div>"
      ],
      "text/plain": [
       "LogisticRegression(C=0.1, penalty='l1', random_state=42, solver='liblinear')"
      ]
     },
     "execution_count": 45,
     "metadata": {},
     "output_type": "execute_result"
    }
   ],
   "source": [
    "grid_search.best_estimator_"
   ]
  },
  {
   "cell_type": "code",
   "execution_count": 46,
   "metadata": {},
   "outputs": [],
   "source": [
    "best_model = grid_search.best_estimator_\n",
    "y_pred = best_model.predict(X_test)"
   ]
  },
  {
   "cell_type": "code",
   "execution_count": 47,
   "metadata": {},
   "outputs": [
    {
     "data": {
      "image/png": "[encoded data removed]",
      "text/plain": [
       "<Figure size 432x288 with 2 Axes>"
      ]
     },
     "metadata": {
      "needs_background": "light"
     },
     "output_type": "display_data"
    }
   ],
   "source": [
    "cf_matrix = confusion_matrix(y_test, y_pred)\n",
    "\n",
    "group_names = [\"True Neg\",\"False Pos\",\"False Neg\",\"True Pos\"]\n",
    "group_counts = [\"{0:0.0f}\".format(value) for value in\n",
    "                cf_matrix.flatten()]\n",
    "group_percentages = [\"{0:.2%}\".format(value) for value in\n",
    "                     cf_matrix.flatten()/np.sum(cf_matrix)]\n",
    "labels = [f\"{v1}\\n{v2}\\n{v3}\" for v1, v2, v3 in\n",
    "          zip(group_names,group_counts,group_percentages)]\n",
    "labels = np.asarray(labels).reshape(2,2)\n",
    "sns.heatmap(cf_matrix, annot=labels, fmt=\"\", cmap='Blues')\n",
    "plt.xlabel('Predicted Labels')\n",
    "plt.ylabel('Actual Labels')\n",
    "plt.show()"
   ]
  },
  {
   "cell_type": "code",
   "execution_count": 48,
   "metadata": {},
   "outputs": [],
   "source": [
    "FN = cf_matrix[0][0]\n",
    "FP = cf_matrix[0][1]\n",
    "FN = cf_matrix[1][0]\n",
    "TP = cf_matrix[1][1]"
   ]
  },
  {
   "cell_type": "code",
   "execution_count": 49,
   "metadata": {},
   "outputs": [
    {
     "name": "stdout",
     "output_type": "stream",
     "text": [
      "The profit will be 590 €\n"
     ]
    }
   ],
   "source": [
    "n_targeted = TP + FP # target all customers that were predicted to subscribe\n",
    "n_subscribers = TP # the FN will not be targeted\n",
    "targeting_cost = 10\n",
    "subscription_earn = 50\n",
    "\n",
    "revenue = n_subscribers * subscription_earn\n",
    "cost = n_targeted * targeting_cost\n",
    "\n",
    "profit = revenue - cost\n",
    "print(f\"The profit will be {profit} €\")"
   ]
  },
  {
   "attachments": {},
   "cell_type": "markdown",
   "metadata": {},
   "source": [
    "### Question 3.4 (10 points)\n",
    "\n",
    "Now adjust the decision threshold in order to optimize the obtained profit. What would be the resulting threshold and profit? Is the propensity model built based on the targeting predicted probability useful in terms of profit maximizing? Explain."
   ]
  },
  {
   "attachments": {},
   "cell_type": "markdown",
   "metadata": {},
   "source": [
    "Default decision threshold = 0.5"
   ]
  },
  {
   "cell_type": "code",
   "execution_count": 50,
   "metadata": {},
   "outputs": [],
   "source": [
    "from sklearn.metrics import precision_recall_curve\n",
    "\n",
    "# Create an array of possible thresholds\n",
    "y_pred_positive = best_model.predict_proba(X_test)[:, 1]\n",
    "\n",
    "# takes the true output values and the probabilities for the positive class as input and returns the precision, recall and threshold values.\n",
    "precisions, recalls, thresholds = precision_recall_curve(y_test, y_pred_positive)"
   ]
  },
  {
   "attachments": {},
   "cell_type": "markdown",
   "metadata": {},
   "source": [
    "<span style=\"color:orange\">**Precision-Recall Curve**</span>\n",
    "showing the trade-off between precision and recall for different classification thresholds. The best model would be one with high precision and high recall, but there is usually a trade-off between the two."
   ]
  },
  {
   "cell_type": "code",
   "execution_count": 51,
   "metadata": {},
   "outputs": [
    {
     "data": {
      "text/plain": [
       "(0.0, 1.0, 0.0, 1.0)"
      ]
     },
     "execution_count": 51,
     "metadata": {},
     "output_type": "execute_result"
    },
    {
     "data": {
      "image/png": "[encoded data removed]",
      "text/plain": [
       "<Figure size 432x288 with 1 Axes>"
      ]
     },
     "metadata": {
      "needs_background": "light"
     },
     "output_type": "display_data"
    }
   ],
   "source": [
    "# Plot precision-recall-curve\n",
    "plt.plot(recalls, precisions, \"b-\", linewidth=2)\n",
    "plt.xlabel(\"Recall\", fontsize=16)\n",
    "plt.ylabel(\"Precision\", fontsize=16)\n",
    "plt.title(\"Precision-Recall-Curve\", fontsize=16)\n",
    "plt.axis([0, 1, 0, 1])"
   ]
  },
  {
   "attachments": {},
   "cell_type": "markdown",
   "metadata": {},
   "source": [
    "<span style=\"color:orange\">**Precision and Recall as function of threshold**</span> We can observe how the binary classification model's performance varies when we modify the threshold. The precision and recall numbers denote, respectively, the proportion of correctly classified positive cases and the fraction of correctly categorized positive instances. The best model is one with high recall and high precision."
   ]
  },
  {
   "cell_type": "code",
   "execution_count": 52,
   "metadata": {},
   "outputs": [
    {
     "data": {
      "image/png": "[encoded data removed]",
      "text/plain": [
       "<Figure size 576x288 with 1 Axes>"
      ]
     },
     "metadata": {
      "needs_background": "light"
     },
     "output_type": "display_data"
    }
   ],
   "source": [
    "# plot precision and recall as a function of threshold\n",
    "\n",
    "def plot_precision_recall_vs_threshold(precisions, recalls, thresholds):\n",
    "    # remove last value from precisions and recalls array to get cleaner plot\n",
    "    plt.plot(thresholds, precisions[:-1], \"b--\", label=\"Precision\", linewidth=2)\n",
    "    plt.plot(thresholds, recalls[:-1], \"g-\", label=\"Recall\", linewidth=2)\n",
    "    plt.xlabel(\"Threshold\", fontsize=16)\n",
    "    plt.title(\"Precision and Recall as function of threshold\", fontsize=16)\n",
    "    plt.legend(loc=\"upper left\", fontsize=16)\n",
    "    plt.ylim([0, 1])\n",
    "\n",
    "plt.figure(figsize=(8, 4))\n",
    "plot_precision_recall_vs_threshold(precisions, recalls, thresholds)\n",
    "plt.show()"
   ]
  },
  {
   "cell_type": "code",
   "execution_count": 53,
   "metadata": {},
   "outputs": [
    {
     "data": {
      "text/html": [
       "<div>\n",
       "<style scoped>\n",
       "    .dataframe tbody tr th:only-of-type {\n",
       "        vertical-align: middle;\n",
       "    }\n",
       "\n",
       "    .dataframe tbody tr th {\n",
       "        vertical-align: top;\n",
       "    }\n",
       "\n",
       "    .dataframe thead th {\n",
       "        text-align: right;\n",
       "    }\n",
       "</style>\n",
       "<table border=\"1\" class=\"dataframe\">\n",
       "  <thead>\n",
       "    <tr style=\"text-align: right;\">\n",
       "      <th></th>\n",
       "      <th>threshold</th>\n",
       "      <th>precision</th>\n",
       "      <th>recall</th>\n",
       "    </tr>\n",
       "  </thead>\n",
       "  <tbody>\n",
       "    <tr>\n",
       "      <th>0</th>\n",
       "      <td>0.043684</td>\n",
       "      <td>0.149847</td>\n",
       "      <td>1.000000</td>\n",
       "    </tr>\n",
       "    <tr>\n",
       "      <th>1</th>\n",
       "      <td>0.043698</td>\n",
       "      <td>0.148545</td>\n",
       "      <td>0.989796</td>\n",
       "    </tr>\n",
       "    <tr>\n",
       "      <th>2</th>\n",
       "      <td>0.043914</td>\n",
       "      <td>0.148773</td>\n",
       "      <td>0.989796</td>\n",
       "    </tr>\n",
       "    <tr>\n",
       "      <th>3</th>\n",
       "      <td>0.044042</td>\n",
       "      <td>0.149002</td>\n",
       "      <td>0.989796</td>\n",
       "    </tr>\n",
       "    <tr>\n",
       "      <th>4</th>\n",
       "      <td>0.044183</td>\n",
       "      <td>0.149231</td>\n",
       "      <td>0.989796</td>\n",
       "    </tr>\n",
       "    <tr>\n",
       "      <th>...</th>\n",
       "      <td>...</td>\n",
       "      <td>...</td>\n",
       "      <td>...</td>\n",
       "    </tr>\n",
       "    <tr>\n",
       "      <th>649</th>\n",
       "      <td>0.924749</td>\n",
       "      <td>0.400000</td>\n",
       "      <td>0.020408</td>\n",
       "    </tr>\n",
       "    <tr>\n",
       "      <th>650</th>\n",
       "      <td>0.941895</td>\n",
       "      <td>0.250000</td>\n",
       "      <td>0.010204</td>\n",
       "    </tr>\n",
       "    <tr>\n",
       "      <th>651</th>\n",
       "      <td>0.955003</td>\n",
       "      <td>0.000000</td>\n",
       "      <td>0.000000</td>\n",
       "    </tr>\n",
       "    <tr>\n",
       "      <th>652</th>\n",
       "      <td>0.964185</td>\n",
       "      <td>0.000000</td>\n",
       "      <td>0.000000</td>\n",
       "    </tr>\n",
       "    <tr>\n",
       "      <th>653</th>\n",
       "      <td>0.999771</td>\n",
       "      <td>0.000000</td>\n",
       "      <td>0.000000</td>\n",
       "    </tr>\n",
       "  </tbody>\n",
       "</table>\n",
       "<p>654 rows × 3 columns</p>\n",
       "</div>"
      ],
      "text/plain": [
       "     threshold  precision    recall\n",
       "0     0.043684   0.149847  1.000000\n",
       "1     0.043698   0.148545  0.989796\n",
       "2     0.043914   0.148773  0.989796\n",
       "3     0.044042   0.149002  0.989796\n",
       "4     0.044183   0.149231  0.989796\n",
       "..         ...        ...       ...\n",
       "649   0.924749   0.400000  0.020408\n",
       "650   0.941895   0.250000  0.010204\n",
       "651   0.955003   0.000000  0.000000\n",
       "652   0.964185   0.000000  0.000000\n",
       "653   0.999771   0.000000  0.000000\n",
       "\n",
       "[654 rows x 3 columns]"
      ]
     },
     "execution_count": 53,
     "metadata": {},
     "output_type": "execute_result"
    }
   ],
   "source": [
    "df_prec_recall = pd.DataFrame({\"threshold\" : thresholds, \"precision\" : precisions[:-1], \"recall\": recalls[:-1]})\n",
    "df_prec_recall"
   ]
  },
  {
   "attachments": {},
   "cell_type": "markdown",
   "metadata": {},
   "source": [
    "The threshold at which recall and precision are equal and intersect."
   ]
  },
  {
   "cell_type": "code",
   "execution_count": 54,
   "metadata": {},
   "outputs": [
    {
     "data": {
      "text/html": [
       "<div>\n",
       "<style scoped>\n",
       "    .dataframe tbody tr th:only-of-type {\n",
       "        vertical-align: middle;\n",
       "    }\n",
       "\n",
       "    .dataframe tbody tr th {\n",
       "        vertical-align: top;\n",
       "    }\n",
       "\n",
       "    .dataframe thead th {\n",
       "        text-align: right;\n",
       "    }\n",
       "</style>\n",
       "<table border=\"1\" class=\"dataframe\">\n",
       "  <thead>\n",
       "    <tr style=\"text-align: right;\">\n",
       "      <th></th>\n",
       "      <th>threshold</th>\n",
       "      <th>precision</th>\n",
       "      <th>recall</th>\n",
       "    </tr>\n",
       "  </thead>\n",
       "  <tbody>\n",
       "    <tr>\n",
       "      <th>556</th>\n",
       "      <td>0.253801</td>\n",
       "      <td>0.44898</td>\n",
       "      <td>0.44898</td>\n",
       "    </tr>\n",
       "  </tbody>\n",
       "</table>\n",
       "</div>"
      ],
      "text/plain": [
       "     threshold  precision   recall\n",
       "556   0.253801    0.44898  0.44898"
      ]
     },
     "execution_count": 54,
     "metadata": {},
     "output_type": "execute_result"
    }
   ],
   "source": [
    "df_prec_recall[(df_prec_recall[\"precision\"] == df_prec_recall[\"recall\"]) & (df_prec_recall[\"precision\"] != 0)]"
   ]
  },
  {
   "attachments": {},
   "cell_type": "markdown",
   "metadata": {},
   "source": [
    "<span style=\"color:orange\">**Generate the predicted probability of adoption for each customer**</span> pos_prediction does the following: y_pred_pos returns a boolean array with True for samples whose probability of belonging to the positive class is greater than the threshold and False for those whose probability is less than or equal to the threshold.\n",
    "\n",
    "Finally, it converts the boolean array to integers by multiplying it by 1 and returns it as the predicted classes for the test set."
   ]
  },
  {
   "cell_type": "code",
   "execution_count": 55,
   "metadata": {},
   "outputs": [],
   "source": [
    "def pos_prediction(X, threshold):\n",
    "    y_pred_pos = best_model.predict_proba(X)[:, 1]\n",
    "    return (y_pred_pos > threshold).astype(int)"
   ]
  },
  {
   "cell_type": "code",
   "execution_count": 56,
   "metadata": {},
   "outputs": [
    {
     "data": {
      "text/plain": [
       "array([0, 0, 0, 0, 0, 0, 0, 0, 0, 0, 0, 0, 0, 1, 0, 0, 0, 0, 0, 0, 0, 0,\n",
       "       0, 0, 0, 0, 0, 1, 0, 0, 0, 0, 0, 0, 0, 0, 0, 0, 0, 0, 0, 0, 0, 0,\n",
       "       0, 0, 0, 0, 0, 0, 0, 0, 0, 0, 0, 0, 1, 0, 0, 0, 0, 0, 0, 0, 0, 0,\n",
       "       0, 0, 0, 0, 0, 0, 1, 0, 0, 0, 0, 0, 0, 0, 0, 0, 0, 0, 0, 0, 0, 0,\n",
       "       0, 0, 0, 0, 0, 0, 0, 0, 0, 0, 0, 0, 0, 0, 0, 0, 0, 0, 0, 0, 0, 0,\n",
       "       0, 0, 0, 0, 0, 0, 1, 1, 0, 0, 0, 0, 0, 0, 0, 0, 0, 0, 0, 0, 0, 0,\n",
       "       0, 0, 0, 0, 0, 0, 0, 0, 0, 0, 0, 0, 0, 0, 0, 0, 0, 0, 0, 0, 0, 0,\n",
       "       0, 0, 0, 0, 0, 0, 0, 0, 0, 0, 0, 1, 0, 0, 0, 1, 0, 0, 0, 0, 0, 0,\n",
       "       0, 0, 0, 0, 0, 0, 0, 0, 0, 0, 0, 0, 0, 0, 0, 0, 0, 0, 0, 0, 0, 0,\n",
       "       0, 0, 0, 0, 1, 0, 0, 0, 0, 0, 0, 0, 0, 0, 0, 0, 0, 0, 0, 0, 0, 0,\n",
       "       0, 0, 0, 0, 0, 0, 0, 0, 0, 0, 0, 0, 0, 1, 0, 0, 0, 0, 0, 0, 0, 1,\n",
       "       0, 0, 0, 0, 0, 0, 0, 0, 0, 1, 0, 0, 0, 0, 0, 0, 0, 0, 0, 0, 0, 0,\n",
       "       0, 0, 0, 0, 0, 0, 0, 0, 0, 0, 0, 0, 0, 0, 0, 0, 0, 0, 0, 0, 0, 0,\n",
       "       0, 0, 0, 0, 0, 0, 0, 0, 0, 0, 0, 0, 0, 0, 0, 0, 0, 0, 0, 0, 0, 0,\n",
       "       0, 0, 0, 0, 0, 0, 0, 0, 0, 0, 0, 1, 0, 0, 0, 0, 0, 1, 0, 0, 0, 0,\n",
       "       0, 0, 0, 0, 0, 0, 0, 0, 0, 0, 0, 0, 1, 0, 0, 0, 0, 0, 0, 0, 0, 0,\n",
       "       0, 0, 0, 0, 0, 0, 0, 0, 0, 0, 0, 0, 0, 0, 0, 0, 0, 0, 0, 0, 0, 1,\n",
       "       0, 0, 0, 0, 0, 0, 0, 0, 0, 0, 0, 0, 0, 0, 0, 0, 0, 0, 0, 0, 0, 0,\n",
       "       0, 0, 0, 0, 0, 0, 0, 0, 0, 0, 0, 0, 0, 0, 0, 0, 0, 0, 0, 0, 0, 0,\n",
       "       0, 0, 0, 0, 0, 0, 0, 0, 0, 0, 0, 0, 0, 0, 0, 0, 0, 0, 0, 0, 0, 0,\n",
       "       0, 1, 0, 0, 0, 0, 0, 0, 0, 0, 0, 0, 0, 0, 0, 0, 0, 0, 0, 0, 1, 0,\n",
       "       0, 0, 0, 0, 0, 0, 0, 0, 0, 0, 0, 0, 0, 0, 0, 0, 0, 0, 0, 0, 0, 0,\n",
       "       1, 0, 0, 0, 0, 1, 0, 0, 0, 0, 0, 1, 0, 0, 0, 0, 0, 0, 0, 0, 0, 0,\n",
       "       0, 0, 0, 1, 0, 0, 1, 0, 0, 0, 0, 0, 0, 0, 0, 0, 0, 0, 0, 0, 0, 0,\n",
       "       0, 0, 0, 0, 0, 0, 0, 0, 0, 0, 0, 0, 0, 0, 0, 0, 0, 0, 0, 0, 0, 0,\n",
       "       0, 0, 0, 0, 0, 0, 0, 0, 0, 0, 0, 0, 0, 0, 0, 0, 0, 0, 0, 1, 0, 0,\n",
       "       0, 0, 0, 0, 0, 0, 0, 0, 0, 0, 0, 0, 0, 0, 0, 0, 0, 0, 0, 0, 0, 0,\n",
       "       0, 0, 0, 0, 0, 0, 0, 0, 0, 0, 0, 0, 0, 0, 0, 0, 0, 0, 0, 0, 0, 0,\n",
       "       0, 0, 0, 0, 0, 0, 0, 0, 0, 0, 0, 0, 0, 0, 0, 0, 0, 0, 1, 0, 0, 0,\n",
       "       0, 0, 0, 0, 0, 0, 0, 0, 0, 0, 0, 0, 1, 0, 0, 0, 0, 0, 0, 0, 0, 0,\n",
       "       0, 0, 0, 0, 0, 0, 0, 0, 0, 0, 0, 0, 0, 0, 0, 0, 0, 1, 0, 0, 0, 0,\n",
       "       0, 0, 0, 0, 0, 0, 0, 0, 0, 0, 0, 0, 0, 0, 0, 0, 0, 0, 0, 0, 0, 0,\n",
       "       0, 0, 0, 0, 1, 0, 0, 0, 0, 0, 0, 0, 0, 0, 0, 0, 0, 0, 0, 0, 0, 0,\n",
       "       1, 0, 0, 0, 0, 0, 0, 0, 0, 0, 0, 0, 0, 0, 0, 0, 0, 0, 0, 0, 0, 0,\n",
       "       0, 0, 0, 0, 0, 0, 0, 0, 0, 0, 0, 0, 1, 0, 0, 0, 0, 0, 0, 0, 0, 0,\n",
       "       0, 0, 0, 0, 0, 0, 0, 0, 0, 0, 0, 0, 0, 0, 0, 0, 0, 0, 0, 0, 0, 0,\n",
       "       1, 0, 0, 0, 0, 0, 0, 0, 0, 0, 0, 0, 0, 0, 0, 0, 1, 0, 0, 0, 0, 0,\n",
       "       0, 0, 0, 0, 0, 0, 0, 0, 0, 0, 0, 0, 0, 0, 0, 0, 0, 0, 0, 1, 0, 0,\n",
       "       0, 0, 0, 0, 0, 0, 0, 0, 0, 0, 0, 0, 0, 0, 0, 0, 0, 0, 0, 0, 1, 0,\n",
       "       1, 0, 0, 0, 0, 0, 0, 0, 0, 0, 0, 0, 0, 0, 0, 0, 0, 0, 0, 0, 0, 1,\n",
       "       0, 0, 0, 0, 0, 0, 0, 0, 0, 0, 0, 0, 0, 0, 0, 0, 0, 0, 0, 0, 0, 0,\n",
       "       0, 0, 0])"
      ]
     },
     "execution_count": 56,
     "metadata": {},
     "output_type": "execute_result"
    }
   ],
   "source": [
    "pos_prediction(X_test, 0.5)"
   ]
  },
  {
   "attachments": {},
   "cell_type": "markdown",
   "metadata": {},
   "source": [
    "<span style=\"color:orange\">**Profit for different thresholds**</span> calculate the expected profits based on different thresholds:"
   ]
  },
  {
   "cell_type": "code",
   "execution_count": 57,
   "metadata": {},
   "outputs": [
    {
     "data": {
      "text/html": [
       "<div>\n",
       "<style scoped>\n",
       "    .dataframe tbody tr th:only-of-type {\n",
       "        vertical-align: middle;\n",
       "    }\n",
       "\n",
       "    .dataframe tbody tr th {\n",
       "        vertical-align: top;\n",
       "    }\n",
       "\n",
       "    .dataframe thead th {\n",
       "        text-align: right;\n",
       "    }\n",
       "</style>\n",
       "<table border=\"1\" class=\"dataframe\">\n",
       "  <thead>\n",
       "    <tr style=\"text-align: right;\">\n",
       "      <th></th>\n",
       "      <th>Threshold</th>\n",
       "      <th>Profit</th>\n",
       "    </tr>\n",
       "  </thead>\n",
       "  <tbody>\n",
       "    <tr>\n",
       "      <th>0</th>\n",
       "      <td>0.0</td>\n",
       "      <td>-4150.0</td>\n",
       "    </tr>\n",
       "    <tr>\n",
       "      <th>1</th>\n",
       "      <td>0.001</td>\n",
       "      <td>-4150.0</td>\n",
       "    </tr>\n",
       "    <tr>\n",
       "      <th>2</th>\n",
       "      <td>0.002</td>\n",
       "      <td>-4150.0</td>\n",
       "    </tr>\n",
       "    <tr>\n",
       "      <th>3</th>\n",
       "      <td>0.003</td>\n",
       "      <td>-4150.0</td>\n",
       "    </tr>\n",
       "    <tr>\n",
       "      <th>4</th>\n",
       "      <td>0.004</td>\n",
       "      <td>-4140.0</td>\n",
       "    </tr>\n",
       "    <tr>\n",
       "      <th>...</th>\n",
       "      <td>...</td>\n",
       "      <td>...</td>\n",
       "    </tr>\n",
       "    <tr>\n",
       "      <th>995</th>\n",
       "      <td>0.995</td>\n",
       "      <td>-10.0</td>\n",
       "    </tr>\n",
       "    <tr>\n",
       "      <th>996</th>\n",
       "      <td>0.996</td>\n",
       "      <td>-10.0</td>\n",
       "    </tr>\n",
       "    <tr>\n",
       "      <th>997</th>\n",
       "      <td>0.997</td>\n",
       "      <td>-10.0</td>\n",
       "    </tr>\n",
       "    <tr>\n",
       "      <th>998</th>\n",
       "      <td>0.998</td>\n",
       "      <td>-10.0</td>\n",
       "    </tr>\n",
       "    <tr>\n",
       "      <th>999</th>\n",
       "      <td>0.999</td>\n",
       "      <td>-10.0</td>\n",
       "    </tr>\n",
       "  </tbody>\n",
       "</table>\n",
       "<p>1000 rows × 2 columns</p>\n",
       "</div>"
      ],
      "text/plain": [
       "    Threshold  Profit\n",
       "0         0.0 -4150.0\n",
       "1       0.001 -4150.0\n",
       "2       0.002 -4150.0\n",
       "3       0.003 -4150.0\n",
       "4       0.004 -4140.0\n",
       "..        ...     ...\n",
       "995     0.995   -10.0\n",
       "996     0.996   -10.0\n",
       "997     0.997   -10.0\n",
       "998     0.998   -10.0\n",
       "999     0.999   -10.0\n",
       "\n",
       "[1000 rows x 2 columns]"
      ]
     },
     "execution_count": 57,
     "metadata": {},
     "output_type": "execute_result"
    }
   ],
   "source": [
    "thresholds = np.arange(0.0, 1.0, 0.001)\n",
    "\n",
    "# Create an empty dataframe to store results\n",
    "profits_df = pd.DataFrame(columns=['Threshold', 'Profit'])\n",
    "\n",
    "# Calculate profit for each threshold\n",
    "for t in thresholds:\n",
    "    y_pred_custom = pos_prediction(X_test, t)\n",
    "    tn, fp, fn, tp = confusion_matrix(y_test, y_pred_custom).ravel()\n",
    "    profit = (tp * 50) - ((tp + fp) * 10)\n",
    "    profits_df = profits_df.append({'Threshold': t, 'Profit': profit}, ignore_index=True)\n",
    "\n",
    "profits_df"
   ]
  },
  {
   "cell_type": "code",
   "execution_count": 58,
   "metadata": {},
   "outputs": [
    {
     "data": {
      "text/plain": [
       "Text(0, 0.5, 'Profits')"
      ]
     },
     "execution_count": 58,
     "metadata": {},
     "output_type": "execute_result"
    },
    {
     "data": {
      "image/png": "[encoded data removed]",
      "text/plain": [
       "<Figure size 432x288 with 1 Axes>"
      ]
     },
     "metadata": {
      "needs_background": "light"
     },
     "output_type": "display_data"
    }
   ],
   "source": [
    "profits_df.plot()\n",
    "plt.xlabel(\"Thresholds\")\n",
    "plt.ylabel(\"Profits\")"
   ]
  },
  {
   "attachments": {},
   "cell_type": "markdown",
   "metadata": {},
   "source": [
    "With a low threshold we achieve negative profit (wrong predictions). When the threshold increases, we the profit also increases, but only up to a certain point."
   ]
  },
  {
   "attachments": {},
   "cell_type": "markdown",
   "metadata": {},
   "source": [
    "<span style=\"color:orange\">**Maximum profit**</span> gives us optimal threshold"
   ]
  },
  {
   "cell_type": "code",
   "execution_count": 59,
   "metadata": {},
   "outputs": [
    {
     "data": {
      "text/plain": [
       "1340.0"
      ]
     },
     "execution_count": 59,
     "metadata": {},
     "output_type": "execute_result"
    }
   ],
   "source": [
    "max_profit = profits_df[\"Profit\"].max()\n",
    "max_profit"
   ]
  },
  {
   "cell_type": "code",
   "execution_count": 60,
   "metadata": {},
   "outputs": [
    {
     "data": {
      "text/html": [
       "<div>\n",
       "<style scoped>\n",
       "    .dataframe tbody tr th:only-of-type {\n",
       "        vertical-align: middle;\n",
       "    }\n",
       "\n",
       "    .dataframe tbody tr th {\n",
       "        vertical-align: top;\n",
       "    }\n",
       "\n",
       "    .dataframe thead th {\n",
       "        text-align: right;\n",
       "    }\n",
       "</style>\n",
       "<table border=\"1\" class=\"dataframe\">\n",
       "  <thead>\n",
       "    <tr style=\"text-align: right;\">\n",
       "      <th></th>\n",
       "      <th>Threshold</th>\n",
       "      <th>Profit</th>\n",
       "    </tr>\n",
       "  </thead>\n",
       "  <tbody>\n",
       "    <tr>\n",
       "      <th>123</th>\n",
       "      <td>0.123</td>\n",
       "      <td>1340.0</td>\n",
       "    </tr>\n",
       "    <tr>\n",
       "      <th>125</th>\n",
       "      <td>0.125</td>\n",
       "      <td>1340.0</td>\n",
       "    </tr>\n",
       "  </tbody>\n",
       "</table>\n",
       "</div>"
      ],
      "text/plain": [
       "    Threshold  Profit\n",
       "123     0.123  1340.0\n",
       "125     0.125  1340.0"
      ]
     },
     "execution_count": 60,
     "metadata": {},
     "output_type": "execute_result"
    }
   ],
   "source": [
    "max_profit_row = profits_df.loc[profits_df['Profit'] == max_profit]\n",
    "max_profit_row"
   ]
  },
  {
   "cell_type": "code",
   "execution_count": 61,
   "metadata": {},
   "outputs": [],
   "source": [
    "optimal_threshold = 0.123"
   ]
  },
  {
   "attachments": {},
   "cell_type": "markdown",
   "metadata": {},
   "source": [
    "<span style=\"color:orange\">**Propensity model**</span> Is the propensity model built based on the targeting predicted probability useful in terms of profit maximizing? Explain your findings.\n",
    "\n",
    "\n",
    "A propensity model is a predictive model that estimates the probability of an event occurring, such as the probability of a customer purchasing a product or responding to a marketing campaign. As we could see by the plotted curves, in terms of profit maximizing changing the threshold makes sense. It can help the bank to make decisions on how many customers to target."
   ]
  },
  {
   "attachments": {},
   "cell_type": "markdown",
   "metadata": {},
   "source": [
    "### Question 3.5 (5 points)\n",
    "\n",
    "Now train a random forest model, with 10 decision trees and max_depth=2, what is the profit that can be achieved given the threshold that you identified earlier? Do you need to increase or decrese the threshold to maximize the profit using random forest model? Explain your result."
   ]
  },
  {
   "cell_type": "code",
   "execution_count": 62,
   "metadata": {},
   "outputs": [
    {
     "name": "stdout",
     "output_type": "stream",
     "text": [
      "With the random forest model can achieve a profit of 670 €\n"
     ]
    }
   ],
   "source": [
    "random_forest = RandomForestClassifier(n_estimators=10, max_depth=2, random_state = seed)\n",
    "\n",
    "random_forest.fit(X_train, y_train)\n",
    "\n",
    "# Calculate predicted probabilities for positive class\n",
    "y_pred_pos_rf = random_forest.predict_proba(X_test)[:, 1]\n",
    "\n",
    "# Apply custom threshold\n",
    "y_pred_rf = (y_pred_pos_rf > optimal_threshold).astype(int)\n",
    "\n",
    "# Calculate profit\n",
    "tn, fp, fn, tp = confusion_matrix(y_test, y_pred_rf).ravel()\n",
    "profit = (tp * 50) - ((tp + fp) * 10)\n",
    "print(f\"With the random forest model can achieve a profit of {profit} €\")"
   ]
  },
  {
   "cell_type": "code",
   "execution_count": 63,
   "metadata": {},
   "outputs": [
    {
     "data": {
      "text/html": [
       "<div>\n",
       "<style scoped>\n",
       "    .dataframe tbody tr th:only-of-type {\n",
       "        vertical-align: middle;\n",
       "    }\n",
       "\n",
       "    .dataframe tbody tr th {\n",
       "        vertical-align: top;\n",
       "    }\n",
       "\n",
       "    .dataframe thead th {\n",
       "        text-align: right;\n",
       "    }\n",
       "</style>\n",
       "<table border=\"1\" class=\"dataframe\">\n",
       "  <thead>\n",
       "    <tr style=\"text-align: right;\">\n",
       "      <th></th>\n",
       "      <th>threshold</th>\n",
       "      <th>precision</th>\n",
       "      <th>recall</th>\n",
       "    </tr>\n",
       "  </thead>\n",
       "  <tbody>\n",
       "    <tr>\n",
       "      <th>0</th>\n",
       "      <td>0.087840</td>\n",
       "      <td>0.130319</td>\n",
       "      <td>1.000000</td>\n",
       "    </tr>\n",
       "    <tr>\n",
       "      <th>1</th>\n",
       "      <td>0.088176</td>\n",
       "      <td>0.129252</td>\n",
       "      <td>0.969388</td>\n",
       "    </tr>\n",
       "    <tr>\n",
       "      <th>2</th>\n",
       "      <td>0.088199</td>\n",
       "      <td>0.129428</td>\n",
       "      <td>0.969388</td>\n",
       "    </tr>\n",
       "    <tr>\n",
       "      <th>3</th>\n",
       "      <td>0.088412</td>\n",
       "      <td>0.129604</td>\n",
       "      <td>0.969388</td>\n",
       "    </tr>\n",
       "    <tr>\n",
       "      <th>4</th>\n",
       "      <td>0.088416</td>\n",
       "      <td>0.129959</td>\n",
       "      <td>0.969388</td>\n",
       "    </tr>\n",
       "    <tr>\n",
       "      <th>...</th>\n",
       "      <td>...</td>\n",
       "      <td>...</td>\n",
       "      <td>...</td>\n",
       "    </tr>\n",
       "    <tr>\n",
       "      <th>288</th>\n",
       "      <td>0.215460</td>\n",
       "      <td>0.200000</td>\n",
       "      <td>0.010204</td>\n",
       "    </tr>\n",
       "    <tr>\n",
       "      <th>289</th>\n",
       "      <td>0.220764</td>\n",
       "      <td>0.250000</td>\n",
       "      <td>0.010204</td>\n",
       "    </tr>\n",
       "    <tr>\n",
       "      <th>290</th>\n",
       "      <td>0.224557</td>\n",
       "      <td>0.333333</td>\n",
       "      <td>0.010204</td>\n",
       "    </tr>\n",
       "    <tr>\n",
       "      <th>291</th>\n",
       "      <td>0.232286</td>\n",
       "      <td>0.500000</td>\n",
       "      <td>0.010204</td>\n",
       "    </tr>\n",
       "    <tr>\n",
       "      <th>292</th>\n",
       "      <td>0.249292</td>\n",
       "      <td>0.000000</td>\n",
       "      <td>0.000000</td>\n",
       "    </tr>\n",
       "  </tbody>\n",
       "</table>\n",
       "<p>293 rows × 3 columns</p>\n",
       "</div>"
      ],
      "text/plain": [
       "     threshold  precision    recall\n",
       "0     0.087840   0.130319  1.000000\n",
       "1     0.088176   0.129252  0.969388\n",
       "2     0.088199   0.129428  0.969388\n",
       "3     0.088412   0.129604  0.969388\n",
       "4     0.088416   0.129959  0.969388\n",
       "..         ...        ...       ...\n",
       "288   0.215460   0.200000  0.010204\n",
       "289   0.220764   0.250000  0.010204\n",
       "290   0.224557   0.333333  0.010204\n",
       "291   0.232286   0.500000  0.010204\n",
       "292   0.249292   0.000000  0.000000\n",
       "\n",
       "[293 rows x 3 columns]"
      ]
     },
     "execution_count": 63,
     "metadata": {},
     "output_type": "execute_result"
    }
   ],
   "source": [
    "precision_rf, recall_rf, threshold_rf = precision_recall_curve(y_test, y_pred_pos_rf)\n",
    "\n",
    "# Populate dataframe with precision and threshold\n",
    "df_precision_rf = pd.DataFrame({\"threshold\" : threshold_rf, \"precision\" : precision_rf[:-1], \"recall\": recall_rf[:-1]})\n",
    "df_precision_rf"
   ]
  },
  {
   "cell_type": "code",
   "execution_count": 64,
   "metadata": {},
   "outputs": [
    {
     "data": {
      "image/png": "[encoded data removed]",
      "text/plain": [
       "<Figure size 576x288 with 1 Axes>"
      ]
     },
     "metadata": {
      "needs_background": "light"
     },
     "output_type": "display_data"
    }
   ],
   "source": [
    "# plot precision and recall as function of threshold\n",
    "plt.figure(figsize=(8, 4))\n",
    "plot_precision_recall_vs_threshold(precision_rf, recall_rf, threshold_rf)\n",
    "plt.show()"
   ]
  },
  {
   "cell_type": "code",
   "execution_count": 65,
   "metadata": {},
   "outputs": [
    {
     "data": {
      "text/html": [
       "<div>\n",
       "<style scoped>\n",
       "    .dataframe tbody tr th:only-of-type {\n",
       "        vertical-align: middle;\n",
       "    }\n",
       "\n",
       "    .dataframe tbody tr th {\n",
       "        vertical-align: top;\n",
       "    }\n",
       "\n",
       "    .dataframe thead th {\n",
       "        text-align: right;\n",
       "    }\n",
       "</style>\n",
       "<table border=\"1\" class=\"dataframe\">\n",
       "  <thead>\n",
       "    <tr style=\"text-align: right;\">\n",
       "      <th></th>\n",
       "      <th>Threshold</th>\n",
       "      <th>Profit</th>\n",
       "    </tr>\n",
       "  </thead>\n",
       "  <tbody>\n",
       "    <tr>\n",
       "      <th>0</th>\n",
       "      <td>0.0</td>\n",
       "      <td>-4150.0</td>\n",
       "    </tr>\n",
       "    <tr>\n",
       "      <th>1</th>\n",
       "      <td>0.01</td>\n",
       "      <td>-4150.0</td>\n",
       "    </tr>\n",
       "    <tr>\n",
       "      <th>2</th>\n",
       "      <td>0.02</td>\n",
       "      <td>-4150.0</td>\n",
       "    </tr>\n",
       "    <tr>\n",
       "      <th>3</th>\n",
       "      <td>0.03</td>\n",
       "      <td>-4150.0</td>\n",
       "    </tr>\n",
       "    <tr>\n",
       "      <th>4</th>\n",
       "      <td>0.04</td>\n",
       "      <td>-4150.0</td>\n",
       "    </tr>\n",
       "    <tr>\n",
       "      <th>...</th>\n",
       "      <td>...</td>\n",
       "      <td>...</td>\n",
       "    </tr>\n",
       "    <tr>\n",
       "      <th>95</th>\n",
       "      <td>0.95</td>\n",
       "      <td>0.0</td>\n",
       "    </tr>\n",
       "    <tr>\n",
       "      <th>96</th>\n",
       "      <td>0.96</td>\n",
       "      <td>0.0</td>\n",
       "    </tr>\n",
       "    <tr>\n",
       "      <th>97</th>\n",
       "      <td>0.97</td>\n",
       "      <td>0.0</td>\n",
       "    </tr>\n",
       "    <tr>\n",
       "      <th>98</th>\n",
       "      <td>0.98</td>\n",
       "      <td>0.0</td>\n",
       "    </tr>\n",
       "    <tr>\n",
       "      <th>99</th>\n",
       "      <td>0.99</td>\n",
       "      <td>0.0</td>\n",
       "    </tr>\n",
       "  </tbody>\n",
       "</table>\n",
       "<p>100 rows × 2 columns</p>\n",
       "</div>"
      ],
      "text/plain": [
       "   Threshold  Profit\n",
       "0        0.0 -4150.0\n",
       "1       0.01 -4150.0\n",
       "2       0.02 -4150.0\n",
       "3       0.03 -4150.0\n",
       "4       0.04 -4150.0\n",
       "..       ...     ...\n",
       "95      0.95     0.0\n",
       "96      0.96     0.0\n",
       "97      0.97     0.0\n",
       "98      0.98     0.0\n",
       "99      0.99     0.0\n",
       "\n",
       "[100 rows x 2 columns]"
      ]
     },
     "execution_count": 65,
     "metadata": {},
     "output_type": "execute_result"
    }
   ],
   "source": [
    "thresholds = np.arange(0.0, 1.0, 0.01)\n",
    "\n",
    "# Create an empty dataframe to store results\n",
    "profits_df_rf = pd.DataFrame(columns=['Threshold', 'Profit'])\n",
    "\n",
    "# Calculate profit for each threshold\n",
    "for t in thresholds:\n",
    "    y_pred_pos_rf = random_forest.predict_proba(X_test)[:, 1]\n",
    "    y_pred_rf = (y_pred_pos_rf > t).astype(int)\n",
    "    tn, fp, fn, tp = confusion_matrix(y_test, y_pred_rf).ravel()\n",
    "    profit = (tp * 50) - ((tp + fp) * 10)\n",
    "    profits_df_rf = profits_df_rf.append({'Threshold': t, 'Profit': profit}, ignore_index=True)\n",
    "\n",
    "profits_df_rf"
   ]
  },
  {
   "attachments": {},
   "cell_type": "markdown",
   "metadata": {},
   "source": [
    "How the profits evolve with different decision threshold"
   ]
  },
  {
   "cell_type": "code",
   "execution_count": 66,
   "metadata": {},
   "outputs": [
    {
     "data": {
      "text/plain": [
       "<AxesSubplot:>"
      ]
     },
     "execution_count": 66,
     "metadata": {},
     "output_type": "execute_result"
    },
    {
     "data": {
      "image/png": "[encoded data removed]",
      "text/plain": [
       "<Figure size 432x288 with 1 Axes>"
      ]
     },
     "metadata": {
      "needs_background": "light"
     },
     "output_type": "display_data"
    }
   ],
   "source": [
    "profits_df_rf.plot()"
   ]
  },
  {
   "attachments": {},
   "cell_type": "markdown",
   "metadata": {},
   "source": [
    "The company achieves a lower maximum profit of 1130 compared to 1340 €"
   ]
  },
  {
   "cell_type": "code",
   "execution_count": 67,
   "metadata": {},
   "outputs": [
    {
     "data": {
      "text/plain": [
       "1130.0"
      ]
     },
     "execution_count": 67,
     "metadata": {},
     "output_type": "execute_result"
    }
   ],
   "source": [
    "max_profit = profits_df_rf[\"Profit\"].max()\n",
    "max_profit"
   ]
  },
  {
   "cell_type": "code",
   "execution_count": 68,
   "metadata": {},
   "outputs": [
    {
     "data": {
      "text/html": [
       "<div>\n",
       "<style scoped>\n",
       "    .dataframe tbody tr th:only-of-type {\n",
       "        vertical-align: middle;\n",
       "    }\n",
       "\n",
       "    .dataframe tbody tr th {\n",
       "        vertical-align: top;\n",
       "    }\n",
       "\n",
       "    .dataframe thead th {\n",
       "        text-align: right;\n",
       "    }\n",
       "</style>\n",
       "<table border=\"1\" class=\"dataframe\">\n",
       "  <thead>\n",
       "    <tr style=\"text-align: right;\">\n",
       "      <th></th>\n",
       "      <th>Threshold</th>\n",
       "      <th>Profit</th>\n",
       "    </tr>\n",
       "  </thead>\n",
       "  <tbody>\n",
       "    <tr>\n",
       "      <th>14</th>\n",
       "      <td>0.14</td>\n",
       "      <td>1130.0</td>\n",
       "    </tr>\n",
       "  </tbody>\n",
       "</table>\n",
       "</div>"
      ],
      "text/plain": [
       "   Threshold  Profit\n",
       "14      0.14  1130.0"
      ]
     },
     "execution_count": 68,
     "metadata": {},
     "output_type": "execute_result"
    }
   ],
   "source": [
    "max_profit_row_rf = profits_df_rf.loc[profits_df_rf['Profit'] == max_profit]\n",
    "max_profit_row_rf"
   ]
  },
  {
   "attachments": {},
   "cell_type": "markdown",
   "metadata": {},
   "source": [
    "To maximize the profit using random forest model, we would need to increase the threshold to 0.14 (before optimal_threshold was 0.123)"
   ]
  },
  {
   "attachments": {},
   "cell_type": "markdown",
   "metadata": {},
   "source": [
    "Random forest builds multiple decision trees and merges them together to get a more accurate and stable prediction. It can be used for both classification and regression problems. Generally, random forest models perform better than a single model (wisdom of the crowd). \n",
    "\n",
    "However, the random forest model in this case performs worse (lower achievable profit). This could be due to the the max_depth=2 parameter used in the random forest model which may limit its ability to capture complex relationships, potentially leading to reduced performance."
   ]
  },
  {
   "cell_type": "markdown",
   "metadata": {},
   "source": []
  }
 ],
 "metadata": {
  "kernelspec": {
   "display_name": "base",
   "language": "python",
   "name": "python3"
  },
  "language_info": {
   "codemirror_mode": {
    "name": "ipython",
    "version": 3
   },
   "file_extension": ".py",
   "mimetype": "text/x-python",
   "name": "python",
   "nbconvert_exporter": "python",
   "pygments_lexer": "ipython3",
   "version": "3.9.12"
  },
  "orig_nbformat": 4,
  "vscode": {
   "interpreter": {
    "hash": "a81a1412cade015a653d21208291244715c6a021abd2ef05b33165e8b2673496"
   }
  }
 },
 "nbformat": 4,
 "nbformat_minor": 2
}
